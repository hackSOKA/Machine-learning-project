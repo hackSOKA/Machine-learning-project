{
 "cells": [
  {
   "cell_type": "markdown",
   "metadata": {
    "colab_type": "text",
    "id": "7jt5gIHuu-Ov"
   },
   "source": [
    "# BANK TELEMARKETING\n",
    "\n",
    "\n",
    "---\n",
    "\n",
    "\n",
    "\n",
    "\n"
   ]
  },
  {
   "cell_type": "markdown",
   "metadata": {
    "colab_type": "text",
    "id": "nWQd2OWbdkh3"
   },
   "source": [
    "# Import the package "
   ]
  },
  {
   "cell_type": "code",
   "execution_count": 0,
   "metadata": {
    "colab": {},
    "colab_type": "code",
    "id": "9Cux7GIQdbWW"
   },
   "outputs": [],
   "source": [
    "# http://pytorch.org/\n",
    "from os.path import exists\n",
    "from wheel.pep425tags import get_abbr_impl, get_impl_ver, get_abi_tag\n",
    "platform = '{}{}-{}'.format(get_abbr_impl(), get_impl_ver(), get_abi_tag())\n",
    "cuda_output = !ldconfig -p|grep cudart.so|sed -e 's/.*\\.\\([0-9]*\\)\\.\\([0-9]*\\)$/cu\\1\\2/'\n",
    "accelerator = cuda_output[0] if exists('/dev/nvidia0') else 'cpu'\n",
    "\n",
    "!pip install -q http://download.pytorch.org/whl/{accelerator}/torch-0.4.1-{platform}-linux_x86_64.whl torchvision"
   ]
  },
  {
   "cell_type": "code",
   "execution_count": 0,
   "metadata": {
    "colab": {
     "base_uri": "https://localhost:8080/",
     "height": 54
    },
    "colab_type": "code",
    "id": "l8inVflYdiPz",
    "outputId": "3e81cef2-69c9-4095-bf10-6e60893a2a73"
   },
   "outputs": [
    {
     "name": "stdout",
     "output_type": "stream",
     "text": [
      "Your version of Pytorch is 0.4.1. You should use a version >0.4.\n"
     ]
    }
   ],
   "source": [
    "import numpy as np \n",
    "import pandas as pd \n",
    "\n",
    "from sklearn.linear_model import LogisticRegression\n",
    "from sklearn.decomposition import PCA\n",
    "\n",
    "\n",
    "import matplotlib.pyplot as plt\n",
    "\n",
    "from sklearn.cross_validation import train_test_split\n",
    "from sklearn import cross_validation\n",
    "from sklearn.svm import SVC\n",
    "from sklearn.ensemble import RandomForestClassifier\n",
    "from sklearn.neural_network import MLPClassifier\n",
    "from sklearn.metrics import accuracy_score\n",
    "from sklearn.model_selection import GridSearchCV\n",
    "from sklearn.metrics import confusion_matrix\n",
    "from sklearn.utils.class_weight import compute_class_weight\n",
    "\n",
    "from keras.utils import to_categorical\n",
    "from keras.models import Sequential\n",
    "from keras.layers import Dense\n",
    "from keras.layers import Dropout\n",
    "\n",
    "import random\n",
    "import torch\n",
    "import torch.nn as nn\n",
    "import torch.nn.functional as F\n",
    "import torch.optim as optim\n",
    "import tensorflow \n",
    "\n",
    "import seaborn as sns\n",
    "import warnings\n",
    "warnings.filterwarnings('ignore')\n",
    "\n",
    "\n",
    "print(f\"Your version of Pytorch is {torch.__version__}. You should use a version >0.4.\")"
   ]
  },
  {
   "cell_type": "code",
   "execution_count": 0,
   "metadata": {
    "colab": {
     "base_uri": "https://localhost:8080/",
     "height": 54
    },
    "colab_type": "code",
    "id": "SP1370ARdfwb",
    "outputId": "e35b8b56-2aa2-4391-ffc7-2bab3d3452a8"
   },
   "outputs": [
    {
     "name": "stdout",
     "output_type": "stream",
     "text": [
      "cuda\n"
     ]
    }
   ],
   "source": [
    "# If a GPU is available, use it\n",
    "# Pytorch uses an elegant way to keep the code device agnostic\n",
    "if torch.cuda.is_available():\n",
    "    device = torch.device(\"cuda\")\n",
    "    use_cuda = True\n",
    "else:\n",
    "    device = torch.device(\"cpu\")\n",
    "    use_cuda = False\n",
    "    \n",
    "print(device)"
   ]
  },
  {
   "cell_type": "code",
   "execution_count": 0,
   "metadata": {
    "colab": {
     "base_uri": "https://localhost:8080/",
     "height": 54
    },
    "colab_type": "code",
    "id": "O980_hmqdrep",
    "outputId": "d94863a5-dcad-4ea5-a758-2d91e3a504ae"
   },
   "outputs": [
    {
     "name": "stdout",
     "output_type": "stream",
     "text": [
      "Drive already mounted at /content/drive; to attempt to forcibly remount, call drive.mount(\"/content/drive\", force_remount=True).\n"
     ]
    }
   ],
   "source": [
    "from google.colab import drive \n",
    "drive.mount('/content/drive')"
   ]
  },
  {
   "cell_type": "markdown",
   "metadata": {
    "colab_type": "text",
    "id": "1ML__cuxd0LG"
   },
   "source": [
    "# Import the dataset and process the dataset"
   ]
  },
  {
   "cell_type": "code",
   "execution_count": 0,
   "metadata": {
    "colab": {
     "base_uri": "https://localhost:8080/",
     "height": 54
    },
    "colab_type": "code",
    "id": "TTgX934edrhD",
    "outputId": "f41895b3-807f-4cb9-df9d-63891ade4bdc"
   },
   "outputs": [
    {
     "data": {
      "text/plain": [
       "(41188, 20)"
      ]
     },
     "execution_count": 165,
     "metadata": {
      "tags": []
     },
     "output_type": "execute_result"
    }
   ],
   "source": [
    "bank =pd.read_csv('drive/My Drive/PROJECT /bank-additional-full.csv',delimiter=';',header=0)\n",
    "bank.shape"
   ]
  },
  {
   "cell_type": "code",
   "execution_count": 0,
   "metadata": {
    "colab": {},
    "colab_type": "code",
    "id": "TBt4Kiy3drjV"
   },
   "outputs": [],
   "source": [
    "# On tranforme les output par 1 pour yes et 0 pour non \n",
    "bank.y.replace(('yes','no'),(1,0), inplace=True)"
   ]
  },
  {
   "cell_type": "markdown",
   "metadata": {
    "colab_type": "text",
    "id": "cwAjr3H0fEYs"
   },
   "source": [
    "# Data analysis tables & figures "
   ]
  },
  {
   "cell_type": "markdown",
   "metadata": {
    "colab_type": "text",
    "id": "qHv2_XBufe2V"
   },
   "source": [
    "### Pie chart with the percentage of instances for each class"
   ]
  },
  {
   "cell_type": "code",
   "execution_count": 0,
   "metadata": {
    "colab": {
     "base_uri": "https://localhost:8080/",
     "height": 71
    },
    "colab_type": "code",
    "id": "W3TrgQFie--s",
    "outputId": "8daa3ab8-98ec-4375-9e3f-cd21a79bf7dd"
   },
   "outputs": [
    {
     "name": "stdout",
     "output_type": "stream",
     "text": [
      "4640\n",
      "36548\n"
     ]
    }
   ],
   "source": [
    "size = bank.iloc[:,-1]\n",
    "size.shape\n",
    "# On compte le nombre de yes et de qu'il ya \n",
    "nombre_yes = np.count_nonzero(size==1)\n",
    "nombre_no = np.count_nonzero(size==0)\n",
    "print(nombre_yes)\n",
    "print(nombre_no)"
   ]
  },
  {
   "cell_type": "code",
   "execution_count": 0,
   "metadata": {
    "colab": {
     "base_uri": "https://localhost:8080/",
     "height": 371
    },
    "colab_type": "code",
    "id": "VLlJzSsye-60",
    "outputId": "a2d722e8-8429-483b-eac4-10d817bcd86f"
   },
   "outputs": [
    {
     "data": {
      "image/png": "[encoded data removed]",
      "text/plain": [
       "<matplotlib.figure.Figure at 0x7f72dd7733c8>"
      ]
     },
     "metadata": {
      "tags": []
     },
     "output_type": "display_data"
    }
   ],
   "source": [
    "import matplotlib.pyplot as plt\n",
    " \n",
    "# Data to plot\n",
    "labels = 'YES', 'NO', \n",
    "sizes = [nombre_yes,nombre_no]\n",
    "colors = [ 'lightskyblue', 'lightcoral']\n",
    "explode = (0.1, 0, 0, 0)  # explode 1st slice\n",
    "\n",
    "plt.pie(sizes, labels=labels, colors=colors,\n",
    "        autopct='%1.1f%%',shadow=True, startangle=140)\n",
    " \n",
    "plt.axis('equal')\n",
    "plt.title(' Pie chart with the percentage of instances for each class ',fontsize=20)\n",
    "plt.show()  "
   ]
  },
  {
   "cell_type": "markdown",
   "metadata": {
    "colab_type": "text",
    "id": "mMqUxqFifyYr"
   },
   "source": [
    "## Type of the features"
   ]
  },
  {
   "cell_type": "code",
   "execution_count": 0,
   "metadata": {
    "colab": {
     "base_uri": "https://localhost:8080/",
     "height": 394
    },
    "colab_type": "code",
    "id": "GI8XORRbe-4r",
    "outputId": "bb0cff5b-7c94-45a6-960f-f7c860c7a095"
   },
   "outputs": [
    {
     "name": "stdout",
     "output_type": "stream",
     "text": [
      "Data Types: age                 int64\n",
      "job                object\n",
      "marital            object\n",
      "education          object\n",
      "default            object\n",
      "housing            object\n",
      "loan               object\n",
      "contact            object\n",
      "month              object\n",
      "day_of_week        object\n",
      "campaign            int64\n",
      "pdays               int64\n",
      "previous            int64\n",
      "poutcome           object\n",
      "emp.var.rate      float64\n",
      "cons.price.idx    float64\n",
      "cons.conf.idx     float64\n",
      "euribor3m         float64\n",
      "nr.employed       float64\n",
      "y                   int64\n",
      "dtype: object\n"
     ]
    }
   ],
   "source": [
    "print(\"Data Types:\", bank.dtypes)"
   ]
  },
  {
   "cell_type": "markdown",
   "metadata": {
    "colab_type": "text",
    "id": "TJHW4FE8gQcx"
   },
   "source": [
    "##Statistical Description"
   ]
  },
  {
   "cell_type": "code",
   "execution_count": 0,
   "metadata": {
    "colab": {
     "base_uri": "https://localhost:8080/",
     "height": 360
    },
    "colab_type": "code",
    "id": "rH5x-P_YgR90",
    "outputId": "678b3bbe-a9e7-471d-fbe9-b99c3293a768"
   },
   "outputs": [
    {
     "name": "stdout",
     "output_type": "stream",
     "text": [
      "Statistical Description:                age      campaign         pdays      previous  emp.var.rate  \\\n",
      "count  41188.00000  41188.000000  41188.000000  41188.000000  41188.000000   \n",
      "mean      40.02406      2.567593    962.475454      0.172963      0.081886   \n",
      "std       10.42125      2.770014    186.910907      0.494901      1.570960   \n",
      "min       17.00000      1.000000      0.000000      0.000000     -3.400000   \n",
      "25%       32.00000      1.000000    999.000000      0.000000     -1.800000   \n",
      "50%       38.00000      2.000000    999.000000      0.000000      1.100000   \n",
      "75%       47.00000      3.000000    999.000000      0.000000      1.400000   \n",
      "max       98.00000     56.000000    999.000000      7.000000      1.400000   \n",
      "\n",
      "       cons.price.idx  cons.conf.idx     euribor3m   nr.employed             y  \n",
      "count    41188.000000   41188.000000  41188.000000  41188.000000  41188.000000  \n",
      "mean        93.575664     -40.502600      3.621291   5167.035911      0.112654  \n",
      "std          0.578840       4.628198      1.734447     72.251528      0.316173  \n",
      "min         92.201000     -50.800000      0.634000   4963.600000      0.000000  \n",
      "25%         93.075000     -42.700000      1.344000   5099.100000      0.000000  \n",
      "50%         93.749000     -41.800000      4.857000   5191.000000      0.000000  \n",
      "75%         93.994000     -36.400000      4.961000   5228.100000      0.000000  \n",
      "max         94.767000     -26.900000      5.045000   5228.100000      1.000000  \n"
     ]
    }
   ],
   "source": [
    "print(\"Statistical Description:\", bank.describe())"
   ]
  },
  {
   "cell_type": "markdown",
   "metadata": {
    "colab_type": "text",
    "id": "wAMNnWAbgLd-"
   },
   "source": [
    "## Distribution of the features "
   ]
  },
  {
   "cell_type": "code",
   "execution_count": 0,
   "metadata": {
    "colab": {},
    "colab_type": "code",
    "id": "KlR2mZque-2Y"
   },
   "outputs": [],
   "source": [
    "# shuffle the dataset\n",
    "from sklearn.utils import shuffle\n",
    "bank = shuffle(bank)"
   ]
  },
  {
   "cell_type": "markdown",
   "metadata": {
    "colab_type": "text",
    "id": "61_XHMHOiPKf"
   },
   "source": [
    "### Bank client data analysis and categorical treatment"
   ]
  },
  {
   "cell_type": "code",
   "execution_count": 0,
   "metadata": {
    "colab": {
     "base_uri": "https://localhost:8080/",
     "height": 275
    },
    "colab_type": "code",
    "id": "oiWC42FviqVN",
    "outputId": "6c80f47e-65f1-4620-8797-0b87d9f64b33"
   },
   "outputs": [
    {
     "data": {
      "text/html": [
       "<div>\n",
       "<style scoped>\n",
       "    .dataframe tbody tr th:only-of-type {\n",
       "        vertical-align: middle;\n",
       "    }\n",
       "\n",
       "    .dataframe tbody tr th {\n",
       "        vertical-align: top;\n",
       "    }\n",
       "\n",
       "    .dataframe thead th {\n",
       "        text-align: right;\n",
       "    }\n",
       "</style>\n",
       "<table border=\"1\" class=\"dataframe\">\n",
       "  <thead>\n",
       "    <tr style=\"text-align: right;\">\n",
       "      <th></th>\n",
       "      <th>age</th>\n",
       "      <th>job</th>\n",
       "      <th>marital</th>\n",
       "      <th>education</th>\n",
       "      <th>default</th>\n",
       "      <th>housing</th>\n",
       "      <th>loan</th>\n",
       "    </tr>\n",
       "  </thead>\n",
       "  <tbody>\n",
       "    <tr>\n",
       "      <th>31176</th>\n",
       "      <td>48</td>\n",
       "      <td>blue-collar</td>\n",
       "      <td>married</td>\n",
       "      <td>basic.4y</td>\n",
       "      <td>no</td>\n",
       "      <td>no</td>\n",
       "      <td>no</td>\n",
       "    </tr>\n",
       "    <tr>\n",
       "      <th>15247</th>\n",
       "      <td>35</td>\n",
       "      <td>self-employed</td>\n",
       "      <td>married</td>\n",
       "      <td>university.degree</td>\n",
       "      <td>no</td>\n",
       "      <td>no</td>\n",
       "      <td>no</td>\n",
       "    </tr>\n",
       "    <tr>\n",
       "      <th>34251</th>\n",
       "      <td>26</td>\n",
       "      <td>self-employed</td>\n",
       "      <td>married</td>\n",
       "      <td>high.school</td>\n",
       "      <td>no</td>\n",
       "      <td>yes</td>\n",
       "      <td>yes</td>\n",
       "    </tr>\n",
       "    <tr>\n",
       "      <th>17520</th>\n",
       "      <td>46</td>\n",
       "      <td>admin.</td>\n",
       "      <td>married</td>\n",
       "      <td>high.school</td>\n",
       "      <td>no</td>\n",
       "      <td>no</td>\n",
       "      <td>no</td>\n",
       "    </tr>\n",
       "    <tr>\n",
       "      <th>19002</th>\n",
       "      <td>52</td>\n",
       "      <td>technician</td>\n",
       "      <td>divorced</td>\n",
       "      <td>professional.course</td>\n",
       "      <td>no</td>\n",
       "      <td>yes</td>\n",
       "      <td>no</td>\n",
       "    </tr>\n",
       "  </tbody>\n",
       "</table>\n",
       "</div>"
      ],
      "text/plain": [
       "       age            job   marital            education default housing loan\n",
       "31176   48    blue-collar   married             basic.4y      no      no   no\n",
       "15247   35  self-employed   married    university.degree      no      no   no\n",
       "34251   26  self-employed   married          high.school      no     yes  yes\n",
       "17520   46         admin.   married          high.school      no      no   no\n",
       "19002   52     technician  divorced  professional.course      no     yes   no"
      ]
     },
     "execution_count": 172,
     "metadata": {
      "tags": []
     },
     "output_type": "execute_result"
    }
   ],
   "source": [
    "bank_client = bank.iloc[: , 0:7]\n",
    "bank_client.head()"
   ]
  },
  {
   "cell_type": "markdown",
   "metadata": {
    "colab_type": "text",
    "id": "uSic0HddiVsA"
   },
   "source": [
    "#### Age"
   ]
  },
  {
   "cell_type": "code",
   "execution_count": 0,
   "metadata": {
    "colab": {
     "base_uri": "https://localhost:8080/",
     "height": 538
    },
    "colab_type": "code",
    "id": "NTks9P5ue-y-",
    "outputId": "9745412d-9905-40cc-f82f-96b05780e7d9"
   },
   "outputs": [
    {
     "data": {
      "image/png": "[encoded data removed]",
      "text/plain": [
       "<matplotlib.figure.Figure at 0x7f72f007f668>"
      ]
     },
     "metadata": {
      "tags": []
     },
     "output_type": "display_data"
    }
   ],
   "source": [
    "fig, ax = plt.subplots()\n",
    "fig.set_size_inches(20, 8)\n",
    "sns.countplot(x = 'age', data = bank_client)\n",
    "ax.set_xlabel('Age', fontsize=15)\n",
    "ax.set_ylabel('Count', fontsize=15)\n",
    "ax.set_title('Age Count Distribution', fontsize=15)\n",
    "sns.despine()"
   ]
  },
  {
   "cell_type": "code",
   "execution_count": 0,
   "metadata": {
    "colab": {
     "base_uri": "https://localhost:8080/",
     "height": 385
    },
    "colab_type": "code",
    "id": "8DMPKEdKdrlq",
    "outputId": "3c423c1c-01b2-4ae3-d3e8-a074aaae8be7"
   },
   "outputs": [
    {
     "data": {
      "image/png": "[encoded data removed]",
      "text/plain": [
       "<matplotlib.figure.Figure at 0x7f72dd5a7898>"
      ]
     },
     "metadata": {
      "tags": []
     },
     "output_type": "display_data"
    }
   ],
   "source": [
    "fig, (ax1, ax2) = plt.subplots(nrows = 1, ncols = 2, figsize = (13, 5))\n",
    "sns.boxplot(x = 'age', data = bank_client, orient = 'v', ax = ax1)\n",
    "ax1.set_xlabel('People Age', fontsize=15)\n",
    "ax1.set_ylabel('Age', fontsize=15)\n",
    "ax1.set_title('Age Distribution', fontsize=15)\n",
    "ax1.tick_params(labelsize=15)\n",
    "\n",
    "sns.distplot(bank_client['age'], ax = ax2)\n",
    "sns.despine(ax = ax2)\n",
    "ax2.set_xlabel('Age', fontsize=15)\n",
    "ax2.set_ylabel('Occurence', fontsize=15)\n",
    "ax2.set_title('Age x Occurence', fontsize=15)\n",
    "ax2.tick_params(labelsize=15)\n",
    "\n",
    "plt.subplots_adjust(wspace=0.5)\n",
    "plt.tight_layout()"
   ]
  },
  {
   "cell_type": "markdown",
   "metadata": {
    "colab_type": "text",
    "id": "3iuJjcJRi1e_"
   },
   "source": [
    "#### Job"
   ]
  },
  {
   "cell_type": "code",
   "execution_count": 0,
   "metadata": {
    "colab": {
     "base_uri": "https://localhost:8080/",
     "height": 542
    },
    "colab_type": "code",
    "id": "oYTR2sbUdrn-",
    "outputId": "be4f6fd3-04e4-4fc6-ca59-4dd302b32b0d"
   },
   "outputs": [
    {
     "data": {
      "image/png": "[encoded data removed]",
      "text/plain": [
       "<matplotlib.figure.Figure at 0x7f72dd67fa58>"
      ]
     },
     "metadata": {
      "tags": []
     },
     "output_type": "display_data"
    }
   ],
   "source": [
    "fig, ax = plt.subplots()\n",
    "fig.set_size_inches(20, 8)\n",
    "sns.countplot(x = 'job', data = bank_client)\n",
    "ax.set_xlabel('Job', fontsize=15)\n",
    "ax.set_ylabel('Count', fontsize=15)\n",
    "ax.set_title('Job Count Distribution', fontsize=15)\n",
    "ax.tick_params(labelsize=15)\n",
    "sns.despine()"
   ]
  },
  {
   "cell_type": "markdown",
   "metadata": {
    "colab_type": "text",
    "id": "771rtGrsi6A9"
   },
   "source": [
    "#### Marital"
   ]
  },
  {
   "cell_type": "code",
   "execution_count": 0,
   "metadata": {
    "colab": {
     "base_uri": "https://localhost:8080/",
     "height": 379
    },
    "colab_type": "code",
    "id": "H1SAP8aKdrqi",
    "outputId": "32608a5d-c2f9-490e-8551-898f4c4d7045"
   },
   "outputs": [
    {
     "data": {
      "image/png": "[encoded data removed]",
      "text/plain": [
       "<matplotlib.figure.Figure at 0x7f72dcfee6d8>"
      ]
     },
     "metadata": {
      "tags": []
     },
     "output_type": "display_data"
    }
   ],
   "source": [
    "fig, ax = plt.subplots()\n",
    "fig.set_size_inches(10, 5)\n",
    "sns.countplot(x = 'marital', data = bank_client)\n",
    "ax.set_xlabel('Marital', fontsize=15)\n",
    "ax.set_ylabel('Count', fontsize=15)\n",
    "ax.set_title('Marital Count Distribution', fontsize=15)\n",
    "ax.tick_params(labelsize=15)\n",
    "sns.despine()"
   ]
  },
  {
   "cell_type": "markdown",
   "metadata": {
    "colab_type": "text",
    "id": "7LwPMJWUjCYZ"
   },
   "source": [
    "#### Education"
   ]
  },
  {
   "cell_type": "code",
   "execution_count": 0,
   "metadata": {
    "colab": {
     "base_uri": "https://localhost:8080/",
     "height": 379
    },
    "colab_type": "code",
    "id": "FJpZ9cqndrs7",
    "outputId": "b95456f1-7029-4bad-8cfd-9c4bf1167bb3"
   },
   "outputs": [
    {
     "data": {
      "image/png": "[encoded data removed]",
      "text/plain": [
       "<matplotlib.figure.Figure at 0x7f72dcf60320>"
      ]
     },
     "metadata": {
      "tags": []
     },
     "output_type": "display_data"
    }
   ],
   "source": [
    "fig, ax = plt.subplots()\n",
    "fig.set_size_inches(20, 5)\n",
    "sns.countplot(x = 'education', data = bank_client)\n",
    "ax.set_xlabel('Education', fontsize=15)\n",
    "ax.set_ylabel('Count', fontsize=15)\n",
    "ax.set_title('Education Count Distribution', fontsize=15)\n",
    "ax.tick_params(labelsize=15)\n",
    "sns.despine()"
   ]
  },
  {
   "cell_type": "markdown",
   "metadata": {
    "colab_type": "text",
    "id": "6Yh0e5qbjIrl"
   },
   "source": [
    "#### Default, housing, loan"
   ]
  },
  {
   "cell_type": "code",
   "execution_count": 0,
   "metadata": {
    "colab": {
     "base_uri": "https://localhost:8080/",
     "height": 524
    },
    "colab_type": "code",
    "id": "p1sf92IujEGQ",
    "outputId": "98d9528f-c8e1-48ea-fb08-ada4fcdf1d2c"
   },
   "outputs": [
    {
     "data": {
      "image/png": "[encoded data removed]",
      "text/plain": [
       "<matplotlib.figure.Figure at 0x7f72dcf32518>"
      ]
     },
     "metadata": {
      "tags": []
     },
     "output_type": "display_data"
    }
   ],
   "source": [
    "# Default, has credit in default ?\n",
    "fig, (ax1, ax2, ax3) = plt.subplots(nrows = 1, ncols = 3, figsize = (20,8))\n",
    "sns.countplot(x = 'default', data = bank_client, ax = ax1, order = ['no', 'unknown', 'yes'])\n",
    "ax1.set_title('Default', fontsize=15)\n",
    "ax1.set_xlabel('')\n",
    "ax1.set_ylabel('Count', fontsize=15)\n",
    "ax1.tick_params(labelsize=15)\n",
    "\n",
    "# Housing, has housing loan ?\n",
    "sns.countplot(x = 'housing', data = bank_client, ax = ax2, order = ['no', 'unknown', 'yes'])\n",
    "ax2.set_title('Housing', fontsize=15)\n",
    "ax2.set_xlabel('')\n",
    "ax2.set_ylabel('Count', fontsize=15)\n",
    "ax2.tick_params(labelsize=15)\n",
    "\n",
    "# Loan, has personal loan ?\n",
    "sns.countplot(x = 'loan', data = bank_client, ax = ax3, order = ['no', 'unknown', 'yes'])\n",
    "ax3.set_title('Loan', fontsize=15)\n",
    "ax3.set_xlabel('')\n",
    "ax3.set_ylabel('Count', fontsize=15)\n",
    "ax3.tick_params(labelsize=15)\n",
    "\n",
    "plt.subplots_adjust(wspace=0.25)"
   ]
  },
  {
   "cell_type": "markdown",
   "metadata": {
    "colab_type": "text",
    "id": "Ccd-TnTSkoQw"
   },
   "source": [
    "## Correlation Matrix "
   ]
  },
  {
   "cell_type": "code",
   "execution_count": 0,
   "metadata": {
    "colab": {},
    "colab_type": "code",
    "id": "qgjBq0kawgDb"
   },
   "outputs": [],
   "source": [
    "corr = bank.corr(method='pearson')"
   ]
  },
  {
   "cell_type": "code",
   "execution_count": 0,
   "metadata": {
    "colab": {
     "base_uri": "https://localhost:8080/",
     "height": 418
    },
    "colab_type": "code",
    "id": "BLri4Ey-wf7j",
    "outputId": "5964121b-d2a3-4f05-8b92-f913af4eb083"
   },
   "outputs": [
    {
     "data": {
      "image/png": "[encoded data removed]",
      "text/plain": [
       "<matplotlib.figure.Figure at 0x7f72dcf0b898>"
      ]
     },
     "metadata": {
      "tags": []
     },
     "output_type": "display_data"
    }
   ],
   "source": [
    "sns.heatmap(corr, center=True,vmin=-1, vmax=1,robust=True,annot=True)\n",
    "plt.show()"
   ]
  },
  {
   "cell_type": "markdown",
   "metadata": {
    "colab_type": "text",
    "id": "vB4gChpT1MTH"
   },
   "source": [
    "After studying the correlation matrix, we notice that the euribor3 and the nr.employed are strongly correlated with emp var rate, so we decide to remove these 2 columns "
   ]
  },
  {
   "cell_type": "code",
   "execution_count": 0,
   "metadata": {
    "colab": {},
    "colab_type": "code",
    "id": "5TO66zuE1Lsn"
   },
   "outputs": [],
   "source": [
    "bank = bank.drop(['euribor3m', 'nr.employed'], axis=1)"
   ]
  },
  {
   "cell_type": "markdown",
   "metadata": {
    "colab_type": "text",
    "id": "fHixWpedjdGO"
   },
   "source": [
    "# Data Prepocessing"
   ]
  },
  {
   "cell_type": "markdown",
   "metadata": {
    "colab_type": "text",
    "id": "l75RgjGsjm0n"
   },
   "source": [
    "### Bank client categorical treatment\n",
    "\n"
   ]
  },
  {
   "cell_type": "markdown",
   "metadata": {
    "colab_type": "text",
    "id": "D1bGUqrrkAEp"
   },
   "source": [
    "#### Categorical treatment ( age )"
   ]
  },
  {
   "cell_type": "code",
   "execution_count": 0,
   "metadata": {
    "colab": {},
    "colab_type": "code",
    "id": "JbvIsKdDjE_D"
   },
   "outputs": [],
   "source": [
    "#function to create group of ages, this helps because we have 78 differente values here\n",
    "def age(dataframe):\n",
    "    dataframe.loc[dataframe['age'] <= 32, 'age'] = 1\n",
    "    dataframe.loc[(dataframe['age'] > 32) & (dataframe['age'] <= 47), 'age'] = 2\n",
    "    dataframe.loc[(dataframe['age'] > 47) & (dataframe['age'] <= 70), 'age'] = 3\n",
    "    dataframe.loc[(dataframe['age'] > 70) & (dataframe['age'] <= 98), 'age'] = 4\n",
    "           \n",
    "    return dataframe\n",
    "\n",
    "age(bank);"
   ]
  },
  {
   "cell_type": "markdown",
   "metadata": {
    "colab_type": "text",
    "id": "1b2958XRlaWv"
   },
   "source": [
    "#### Encoding the categorical features "
   ]
  },
  {
   "cell_type": "code",
   "execution_count": 0,
   "metadata": {
    "colab": {
     "base_uri": "https://localhost:8080/",
     "height": 34
    },
    "colab_type": "code",
    "id": "d-bvChDzjE9M",
    "outputId": "d09d66cb-6924-4016-9009-b0ec25ade40f"
   },
   "outputs": [
    {
     "data": {
      "text/plain": [
       "(41188, 60)"
      ]
     },
     "execution_count": 183,
     "metadata": {
      "tags": []
     },
     "output_type": "execute_result"
    }
   ],
   "source": [
    "# Ici on procède à l'encoding des features qui sont de type catégories en appliquant la fonction get.dummies. \n",
    "# On peut l'appliquer directement sur tous les features, car elle va considérer \n",
    "# que les features de type categories et ignoner ceux de type numerique\n",
    "t = pd.get_dummies(bank.iloc[:,:-1])\n",
    "t.shape"
   ]
  },
  {
   "cell_type": "code",
   "execution_count": 0,
   "metadata": {
    "colab": {
     "base_uri": "https://localhost:8080/",
     "height": 34
    },
    "colab_type": "code",
    "id": "9tNLQ8UnjE7Q",
    "outputId": "4e9ee7b8-c964-4485-e50e-49238f43a409"
   },
   "outputs": [
    {
     "data": {
      "text/plain": [
       "(41188, 60)"
      ]
     },
     "execution_count": 184,
     "metadata": {
      "tags": []
     },
     "output_type": "execute_result"
    }
   ],
   "source": [
    "feat_T = t.iloc[:,:].values\n",
    "feat_T.shape"
   ]
  },
  {
   "cell_type": "code",
   "execution_count": 0,
   "metadata": {
    "colab": {
     "base_uri": "https://localhost:8080/",
     "height": 34
    },
    "colab_type": "code",
    "id": "evtwWL_QRtNP",
    "outputId": "8b5bec4a-65bf-4df4-f3ba-722f1fdc782d"
   },
   "outputs": [
    {
     "data": {
      "text/plain": [
       "(41188, 53)"
      ]
     },
     "execution_count": 185,
     "metadata": {
      "tags": []
     },
     "output_type": "execute_result"
    }
   ],
   "source": [
    "feat_T1 = feat_T[:,7:]\n",
    "feat_T1.shape"
   ]
  },
  {
   "cell_type": "markdown",
   "metadata": {
    "colab_type": "text",
    "id": "P70uKZWwQ8Lz"
   },
   "source": [
    "### After Encoding the categorical attributes , we normalize the continues ones "
   ]
  },
  {
   "cell_type": "code",
   "execution_count": 0,
   "metadata": {
    "colab": {
     "base_uri": "https://localhost:8080/",
     "height": 34
    },
    "colab_type": "code",
    "id": "LFU1cXshQ1qB",
    "outputId": "385d399b-add4-4881-cbbe-40d4266b4ec6"
   },
   "outputs": [
    {
     "data": {
      "text/plain": [
       "(41188, 6)"
      ]
     },
     "execution_count": 186,
     "metadata": {
      "tags": []
     },
     "output_type": "execute_result"
    }
   ],
   "source": [
    "from sklearn.preprocessing import StandardScaler\n",
    "sc_X = StandardScaler()\n",
    "feat_T2 = sc_X.fit_transform(feat_T[:,1:7])\n",
    "feat_T2.shape"
   ]
  },
  {
   "cell_type": "code",
   "execution_count": 0,
   "metadata": {
    "colab": {
     "base_uri": "https://localhost:8080/",
     "height": 34
    },
    "colab_type": "code",
    "id": "j8nIsNN5Raw5",
    "outputId": "0a312e55-a192-407f-d6e1-cf724753e9f2"
   },
   "outputs": [
    {
     "data": {
      "text/plain": [
       "(41188, 59)"
      ]
     },
     "execution_count": 187,
     "metadata": {
      "tags": []
     },
     "output_type": "execute_result"
    }
   ],
   "source": [
    "feat_T3 = np.concatenate((feat_T2,feat_T1),axis=1)\n",
    "feat_T3.shape"
   ]
  },
  {
   "cell_type": "code",
   "execution_count": 0,
   "metadata": {
    "colab": {
     "base_uri": "https://localhost:8080/",
     "height": 34
    },
    "colab_type": "code",
    "id": "To71BvK-jE4R",
    "outputId": "b0ce7d45-11f2-462d-a166-e3a8355b4d34"
   },
   "outputs": [
    {
     "data": {
      "text/plain": [
       "array([3., 2., 1., ..., 2., 2., 2.])"
      ]
     },
     "execution_count": 188,
     "metadata": {
      "tags": []
     },
     "output_type": "execute_result"
    }
   ],
   "source": [
    "\n",
    "# on transforme aussi la colonne age en encoding \n",
    "age = feat_T[:,0]\n",
    "age"
   ]
  },
  {
   "cell_type": "code",
   "execution_count": 0,
   "metadata": {
    "colab": {
     "base_uri": "https://localhost:8080/",
     "height": 136
    },
    "colab_type": "code",
    "id": "EijuNgqgjE2e",
    "outputId": "3956923d-f805-49d5-dcf5-b51e5e59335f"
   },
   "outputs": [
    {
     "data": {
      "text/plain": [
       "array([[0., 0., 0., 1., 0.],\n",
       "       [0., 0., 1., 0., 0.],\n",
       "       [0., 1., 0., 0., 0.],\n",
       "       ...,\n",
       "       [0., 0., 1., 0., 0.],\n",
       "       [0., 0., 1., 0., 0.],\n",
       "       [0., 0., 1., 0., 0.]], dtype=float32)"
      ]
     },
     "execution_count": 189,
     "metadata": {
      "tags": []
     },
     "output_type": "execute_result"
    }
   ],
   "source": [
    "age_hot =to_categorical(age)\n",
    "age_hot"
   ]
  },
  {
   "cell_type": "markdown",
   "metadata": {
    "colab_type": "text",
    "id": "rPzjPbr2mE0s"
   },
   "source": [
    "# Splitting the data "
   ]
  },
  {
   "cell_type": "markdown",
   "metadata": {
    "colab_type": "text",
    "id": "94SFcMaqmI_7"
   },
   "source": [
    "## Features and ouput separation "
   ]
  },
  {
   "cell_type": "code",
   "execution_count": 0,
   "metadata": {
    "colab": {
     "base_uri": "https://localhost:8080/",
     "height": 34
    },
    "colab_type": "code",
    "id": "Aadh6zhxjEzl",
    "outputId": "24687768-e8da-4c79-ddb0-41d5eaac6a7e"
   },
   "outputs": [
    {
     "data": {
      "text/plain": [
       "(41188, 64)"
      ]
     },
     "execution_count": 190,
     "metadata": {
      "tags": []
     },
     "output_type": "execute_result"
    }
   ],
   "source": [
    "# On rajoute la partie transformer aux restes des features \n",
    "features = np.concatenate((age_hot,feat_T3),axis=1)\n",
    "features.shape"
   ]
  },
  {
   "cell_type": "code",
   "execution_count": 0,
   "metadata": {
    "colab": {
     "base_uri": "https://localhost:8080/",
     "height": 34
    },
    "colab_type": "code",
    "id": "3SIJsju6jEwy",
    "outputId": "406a7941-e693-4500-dea3-51e41b3048c7"
   },
   "outputs": [
    {
     "data": {
      "text/plain": [
       "(41188,)"
      ]
     },
     "execution_count": 191,
     "metadata": {
      "tags": []
     },
     "output_type": "execute_result"
    }
   ],
   "source": [
    "output=bank.iloc[:,-1].values\n",
    "output.shape"
   ]
  },
  {
   "cell_type": "markdown",
   "metadata": {
    "colab_type": "text",
    "id": "vxAURh-FnyMF"
   },
   "source": [
    "## Train (70%) & Test (30%) set splitting "
   ]
  },
  {
   "cell_type": "code",
   "execution_count": 0,
   "metadata": {
    "colab": {
     "base_uri": "https://localhost:8080/",
     "height": 102
    },
    "colab_type": "code",
    "id": "GULeWLoOjEvK",
    "outputId": "56b02256-e744-4503-92bb-2f16d74059fc"
   },
   "outputs": [
    {
     "name": "stdout",
     "output_type": "stream",
     "text": [
      "(28831, 64)\n",
      "(28831,)\n",
      " \n",
      "(12357, 64)\n",
      "(12357,)\n"
     ]
    }
   ],
   "source": [
    "x_train, x_test, y_train, y_test = train_test_split(features, output , test_size=0.3, random_state=1)\n",
    "print(x_train.shape)\n",
    "print(y_train.shape)\n",
    "\n",
    "print(\" \")\n",
    "print(x_test.shape)\n",
    "print(y_test.shape)"
   ]
  },
  {
   "cell_type": "markdown",
   "metadata": {
    "colab_type": "text",
    "id": "qGMabU9AoDM8"
   },
   "source": [
    "# Models with strategy 1 :  No compensation for the under-represented class in the dataset applied"
   ]
  },
  {
   "cell_type": "markdown",
   "metadata": {
    "colab_type": "text",
    "id": "TNBbmRP_oFY5"
   },
   "source": [
    "## 1. Logistic Regression "
   ]
  },
  {
   "cell_type": "markdown",
   "metadata": {
    "colab_type": "text",
    "id": "qUeQ206DoyBQ"
   },
   "source": [
    "### Hyperparameters Tuning "
   ]
  },
  {
   "cell_type": "code",
   "execution_count": 0,
   "metadata": {
    "colab": {
     "base_uri": "https://localhost:8080/",
     "height": 74
    },
    "colab_type": "code",
    "id": "50oO_sUfjEsJ",
    "outputId": "f18c6e83-6bfb-4de8-f1c2-b2583611ac85"
   },
   "outputs": [
    {
     "data": {
      "text/plain": [
       "\"\\ngrid = {\\n        'C': [1e-4,1e-1]\\n         , 'solver': ('newton-cg','liblinear')  , 'tol' : [1e-4,1e-1] , 'max_iter' : [100,1000,10000]\\n         \\n    }\\nclf = LogisticRegression(penalty='l2', random_state=2) \\ngs = GridSearchCV(clf, grid, scoring='roc_auc',cv=3)\\ngs_train = gs.fit(x_train, y_train)\\nprint ('gs.best_score_:', gs.best_score_) \""
      ]
     },
     "execution_count": 193,
     "metadata": {
      "tags": []
     },
     "output_type": "execute_result"
    }
   ],
   "source": [
    "# On utilise la fonction GridSearchCV qui optimise les hyperparametres qu'on lui donne à l'avance \n",
    "# dual = False par default, et on le laisse car n_samples > n_features \n",
    "# multi_class = ovr par defailt, et on le laisse car on est en classification binaire \n",
    "# verbose = 0 par default \n",
    "\n",
    "'''\n",
    "grid = {\n",
    "        'C': [1e-4,1e-1]\n",
    "         , 'solver': ('newton-cg','liblinear')  , 'tol' : [1e-4,1e-1] , 'max_iter' : [100,1000,10000]\n",
    "         \n",
    "    }\n",
    "clf = LogisticRegression(penalty='l2', random_state=2) \n",
    "gs = GridSearchCV(clf, grid, scoring='roc_auc',cv=3)\n",
    "gs_train = gs.fit(x_train, y_train)\n",
    "print ('gs.best_score_:', gs.best_score_) '''"
   ]
  },
  {
   "cell_type": "markdown",
   "metadata": {
    "colab_type": "text",
    "id": "WnnMatKmpa1v"
   },
   "source": [
    "### Best hyparameters "
   ]
  },
  {
   "cell_type": "code",
   "execution_count": 0,
   "metadata": {
    "colab": {
     "base_uri": "https://localhost:8080/",
     "height": 54
    },
    "colab_type": "code",
    "id": "ZjWhpcj6oK6S",
    "outputId": "a7a5bb82-5036-4db2-e14e-f4fd1ffa8924"
   },
   "outputs": [
    {
     "name": "stdout",
     "output_type": "stream",
     "text": [
      "gs.best_param: {'C': 0.0001, 'kernel': 'sigmoid', 'tol': 0.0001}\n"
     ]
    }
   ],
   "source": [
    "print ('gs.best_param:', gs.best_params_)"
   ]
  },
  {
   "cell_type": "markdown",
   "metadata": {
    "colab_type": "text",
    "id": "6YGwzwsLpeZX"
   },
   "source": [
    "### Creation of the model "
   ]
  },
  {
   "cell_type": "code",
   "execution_count": 0,
   "metadata": {
    "colab": {},
    "colab_type": "code",
    "id": "rviANjnSoiE_"
   },
   "outputs": [],
   "source": [
    "# Une fois les hyperparametres optimisés, on les rentre pour la fonction et on regarde le accuracy sur le test set \n",
    "model = LogisticRegression(penalty='l2', random_state=1 , max_iter=100, C = 0.1 , solver = 'newton-cg',tol = 0.1 )"
   ]
  },
  {
   "cell_type": "markdown",
   "metadata": {
    "colab_type": "text",
    "id": "hSUDUeRhpoF8"
   },
   "source": [
    "### Training of the model "
   ]
  },
  {
   "cell_type": "code",
   "execution_count": 0,
   "metadata": {
    "colab": {
     "base_uri": "https://localhost:8080/",
     "height": 105
    },
    "colab_type": "code",
    "id": "sWgzBSuVplE6",
    "outputId": "4a2f974e-84c0-430f-d21d-20a1de8d8238"
   },
   "outputs": [
    {
     "data": {
      "text/plain": [
       "LogisticRegression(C=0.1, class_weight=None, dual=False, fit_intercept=True,\n",
       "          intercept_scaling=1, max_iter=100, multi_class='ovr', n_jobs=1,\n",
       "          penalty='l2', random_state=1, solver='newton-cg', tol=0.1,\n",
       "          verbose=0, warm_start=False)"
      ]
     },
     "execution_count": 196,
     "metadata": {
      "tags": []
     },
     "output_type": "execute_result"
    }
   ],
   "source": [
    "model.fit(x_train,y_train)"
   ]
  },
  {
   "cell_type": "markdown",
   "metadata": {
    "colab_type": "text",
    "id": "3npKxTnnpvNg"
   },
   "source": [
    "### Test set prediction & Accuracy"
   ]
  },
  {
   "cell_type": "code",
   "execution_count": 0,
   "metadata": {
    "colab": {
     "base_uri": "https://localhost:8080/",
     "height": 54
    },
    "colab_type": "code",
    "id": "bTOwsF88p0LP",
    "outputId": "af570ba1-2912-4ce9-f640-54fcf5ff028b"
   },
   "outputs": [
    {
     "data": {
      "text/plain": [
       "0.8990855385611395"
      ]
     },
     "execution_count": 197,
     "metadata": {
      "tags": []
     },
     "output_type": "execute_result"
    }
   ],
   "source": [
    "pre = model.predict(x_test)\n",
    "accuracy_score(y_test,pre)"
   ]
  },
  {
   "cell_type": "markdown",
   "metadata": {
    "colab_type": "text",
    "id": "yMH7IMgCp8KE"
   },
   "source": [
    "### Confusion Matrix "
   ]
  },
  {
   "cell_type": "code",
   "execution_count": 0,
   "metadata": {
    "colab": {
     "base_uri": "https://localhost:8080/",
     "height": 71
    },
    "colab_type": "code",
    "id": "-rQn2b8Doj9A",
    "outputId": "b0353cf7-a06b-4b37-f6ac-1df2b1f14b7b"
   },
   "outputs": [
    {
     "data": {
      "text/plain": [
       "array([[10804,   176],\n",
       "       [ 1071,   306]])"
      ]
     },
     "execution_count": 198,
     "metadata": {
      "tags": []
     },
     "output_type": "execute_result"
    }
   ],
   "source": [
    "m = confusion_matrix(y_test, pre)\n",
    "m"
   ]
  },
  {
   "cell_type": "code",
   "execution_count": 0,
   "metadata": {
    "colab": {
     "base_uri": "https://localhost:8080/",
     "height": 367
    },
    "colab_type": "code",
    "id": "m9I09Zn4oiCx",
    "outputId": "5bdf3343-434d-4444-ea41-e061f016764f"
   },
   "outputs": [
    {
     "data": {
      "image/png": "[encoded data removed]",
      "text/plain": [
       "<matplotlib.figure.Figure at 0x7f72dce31940>"
      ]
     },
     "metadata": {
      "tags": []
     },
     "output_type": "display_data"
    }
   ],
   "source": [
    "sns.heatmap(m, center=True)\n",
    "plt.show()"
   ]
  },
  {
   "cell_type": "markdown",
   "metadata": {
    "colab_type": "text",
    "id": "6B2VOc5oqR-I"
   },
   "source": [
    "##2. Random Forest "
   ]
  },
  {
   "cell_type": "markdown",
   "metadata": {
    "colab_type": "text",
    "id": "sRsTPDVqqXsV"
   },
   "source": [
    "### Hyperparameters Tuning "
   ]
  },
  {
   "cell_type": "code",
   "execution_count": 0,
   "metadata": {
    "colab": {
     "base_uri": "https://localhost:8080/",
     "height": 74
    },
    "colab_type": "code",
    "id": "Kj8I1YoIoh_H",
    "outputId": "8ddd7ca5-a0c3-422b-aaba-15c574f07b83"
   },
   "outputs": [
    {
     "data": {
      "text/plain": [
       "\"\\ngrid = {\\n    'n_estimators': [200, 500],\\n    'max_features': ('auto', 'log2'),\\n    'max_depth' : [15,20,30,40,50],\\n    'criterion' : ('gini','entropy')  \\n}\\nclf = RandomForestClassifier( random_state=4 ) \\ngs = GridSearchCV(clf, grid,cv=3)\\ngs_train = gs.fit(x_train, y_train)\\nprint ('gs.best_score_:', gs.best_score_) \""
      ]
     },
     "execution_count": 200,
     "metadata": {
      "tags": []
     },
     "output_type": "execute_result"
    }
   ],
   "source": [
    "'''\n",
    "grid = {\n",
    "    'n_estimators': [200, 500],\n",
    "    'max_features': ('auto', 'log2'),\n",
    "    'max_depth' : [15,20,30,40,50],\n",
    "    'criterion' : ('gini','entropy')  \n",
    "}\n",
    "clf = RandomForestClassifier( random_state=4 ) \n",
    "gs = GridSearchCV(clf, grid,cv=3)\n",
    "gs_train = gs.fit(x_train, y_train)\n",
    "print ('gs.best_score_:', gs.best_score_) '''"
   ]
  },
  {
   "cell_type": "markdown",
   "metadata": {
    "colab_type": "text",
    "id": "XSKWIgozqedG"
   },
   "source": [
    "### Best hyparameters "
   ]
  },
  {
   "cell_type": "code",
   "execution_count": 0,
   "metadata": {
    "colab": {
     "base_uri": "https://localhost:8080/",
     "height": 54
    },
    "colab_type": "code",
    "id": "WCmx8ZLSoh7l",
    "outputId": "ed361554-58df-40b8-b1d6-0cf2d474f697"
   },
   "outputs": [
    {
     "name": "stdout",
     "output_type": "stream",
     "text": [
      "gs.best_param: {'C': 0.0001, 'kernel': 'sigmoid', 'tol': 0.0001}\n"
     ]
    }
   ],
   "source": [
    "print ('gs.best_param:', gs.best_params_)"
   ]
  },
  {
   "cell_type": "markdown",
   "metadata": {
    "colab_type": "text",
    "id": "m9pZwQcHqjG3"
   },
   "source": [
    "### Creation of the model "
   ]
  },
  {
   "cell_type": "code",
   "execution_count": 0,
   "metadata": {
    "colab": {},
    "colab_type": "code",
    "id": "pkybaNNpqhlB"
   },
   "outputs": [],
   "source": [
    "# Une fois les hyperparametres optimisés, on les rentre pour la fonction et on regarde le accuracy sur le test set \n",
    "model = RandomForestClassifier(max_depth= 15, max_features = 'auto', n_estimators= 500,criterion = 'entropy')"
   ]
  },
  {
   "cell_type": "markdown",
   "metadata": {
    "colab_type": "text",
    "id": "NCRw8KiIqvLj"
   },
   "source": [
    "### Training of the model "
   ]
  },
  {
   "cell_type": "code",
   "execution_count": 0,
   "metadata": {
    "colab": {
     "base_uri": "https://localhost:8080/",
     "height": 156
    },
    "colab_type": "code",
    "id": "5vGzbPW_qwPi",
    "outputId": "3d24958c-ab4f-4fe6-cf26-517bf557b440"
   },
   "outputs": [
    {
     "data": {
      "text/plain": [
       "RandomForestClassifier(bootstrap=True, class_weight=None, criterion='entropy',\n",
       "            max_depth=15, max_features='auto', max_leaf_nodes=None,\n",
       "            min_impurity_decrease=0.0, min_impurity_split=None,\n",
       "            min_samples_leaf=1, min_samples_split=2,\n",
       "            min_weight_fraction_leaf=0.0, n_estimators=500, n_jobs=1,\n",
       "            oob_score=False, random_state=None, verbose=0,\n",
       "            warm_start=False)"
      ]
     },
     "execution_count": 203,
     "metadata": {
      "tags": []
     },
     "output_type": "execute_result"
    }
   ],
   "source": [
    "model.fit(x_train,y_train)"
   ]
  },
  {
   "cell_type": "markdown",
   "metadata": {
    "colab_type": "text",
    "id": "blRjtiNtqpFl"
   },
   "source": [
    "### Test set prediction & Accuracy "
   ]
  },
  {
   "cell_type": "code",
   "execution_count": 0,
   "metadata": {
    "colab": {
     "base_uri": "https://localhost:8080/",
     "height": 54
    },
    "colab_type": "code",
    "id": "c3FguMKxqhiM",
    "outputId": "146af6a8-34b6-4728-e1a2-76384dd99faa"
   },
   "outputs": [
    {
     "data": {
      "text/plain": [
       "0.9005422028000324"
      ]
     },
     "execution_count": 204,
     "metadata": {
      "tags": []
     },
     "output_type": "execute_result"
    }
   ],
   "source": [
    "pre = model.predict(x_test)\n",
    "accuracy_score(y_test,pre) "
   ]
  },
  {
   "cell_type": "markdown",
   "metadata": {
    "colab_type": "text",
    "id": "7yAfQiwtq7Qt"
   },
   "source": [
    "### Confusion Matrix "
   ]
  },
  {
   "cell_type": "code",
   "execution_count": 0,
   "metadata": {
    "colab": {
     "base_uri": "https://localhost:8080/",
     "height": 71
    },
    "colab_type": "code",
    "id": "5-uUPLxBqhfh",
    "outputId": "0ccdd948-1bef-4b58-cf74-9c88826f0cb1"
   },
   "outputs": [
    {
     "data": {
      "text/plain": [
       "array([[10791,   189],\n",
       "       [ 1040,   337]])"
      ]
     },
     "execution_count": 205,
     "metadata": {
      "tags": []
     },
     "output_type": "execute_result"
    }
   ],
   "source": [
    "m = confusion_matrix(y_test, pre)\n",
    "m"
   ]
  },
  {
   "cell_type": "code",
   "execution_count": 0,
   "metadata": {
    "colab": {
     "base_uri": "https://localhost:8080/",
     "height": 367
    },
    "colab_type": "code",
    "id": "NbP-AUgUqhct",
    "outputId": "e907da4b-cef9-463f-9a49-77ddcd114d6f"
   },
   "outputs": [
    {
     "data": {
      "image/png": "[encoded data removed]",
      "text/plain": [
       "<matplotlib.figure.Figure at 0x7f72dcbc2da0>"
      ]
     },
     "metadata": {
      "tags": []
     },
     "output_type": "display_data"
    }
   ],
   "source": [
    "sns.heatmap(m, center=True)\n",
    "plt.show()"
   ]
  },
  {
   "cell_type": "markdown",
   "metadata": {
    "colab_type": "text",
    "id": "ruEAirebGBiS"
   },
   "source": [
    "### Scalling the features for SVM and MLP \n",
    "\n"
   ]
  },
  {
   "cell_type": "code",
   "execution_count": 0,
   "metadata": {
    "colab": {
     "base_uri": "https://localhost:8080/",
     "height": 74
    },
    "colab_type": "code",
    "id": "ID3n6u5YF-dM",
    "outputId": "be73e4d6-3a3f-4b61-f853-b7c4da549f6d"
   },
   "outputs": [
    {
     "data": {
      "text/plain": [
       "' from sklearn.preprocessing import StandardScaler\\nsc_X = StandardScaler()\\nx_train = sc_X.fit_transform(x_train)\\nx_test = sc_X.transform(x_test) '"
      ]
     },
     "execution_count": 207,
     "metadata": {
      "tags": []
     },
     "output_type": "execute_result"
    }
   ],
   "source": [
    "''' from sklearn.preprocessing import StandardScaler\n",
    "sc_X = StandardScaler()\n",
    "x_train = sc_X.fit_transform(x_train)\n",
    "x_test = sc_X.transform(x_test) '''"
   ]
  },
  {
   "cell_type": "markdown",
   "metadata": {
    "colab_type": "text",
    "id": "nJ6faouSrMS4"
   },
   "source": [
    "## 3. SVM"
   ]
  },
  {
   "cell_type": "markdown",
   "metadata": {
    "colab_type": "text",
    "id": "TwYTOqEGrZnu"
   },
   "source": [
    "### Hyperparameters Tuning "
   ]
  },
  {
   "cell_type": "code",
   "execution_count": 0,
   "metadata": {
    "colab": {
     "base_uri": "https://localhost:8080/",
     "height": 74
    },
    "colab_type": "code",
    "id": "2fRVwEKJtVuN",
    "outputId": "7f36fe39-01c2-4ef2-8782-9dc5b69d1e9e"
   },
   "outputs": [
    {
     "data": {
      "text/plain": [
       "\"\\ngrid = {\\n        'C': [1e-4,1e-1],\\n        'kernel': ('linear', 'poly', 'rbf','sigmoid') , \\n        'tol' : [1e-4,1e-1]     \\n    }\\nclf = SVC( random_state=5,max_iter=100,verbose=False) \\ngs = GridSearchCV(clf, grid,cv=3)\\ngs_train = gs.fit(x_train, y_train)\\nprint ('gs.best_score_:', gs.best_score_) \""
      ]
     },
     "execution_count": 208,
     "metadata": {
      "tags": []
     },
     "output_type": "execute_result"
    }
   ],
   "source": [
    "# On reutilise la fonction GridSearchCV comme précédement, afin d'optimiser les hyperparametres \n",
    "# En tunant, on voit que le kernel utiliser est rbf donc l'hyperparametres degree est ignoner, vu qu'on est pas en poly \n",
    "# Pareil pour coef_0, significatif que lorsque l'on est en poly ou sigmoid \n",
    "# decision_function_shape = ovr car on est classification binaire\n",
    "'''\n",
    "grid = {\n",
    "        'C': [1e-4,1e-1],\n",
    "        'kernel': ('linear', 'poly', 'rbf','sigmoid') , \n",
    "        'tol' : [1e-4,1e-1]     \n",
    "    }\n",
    "clf = SVC( random_state=5,max_iter=100,verbose=False) \n",
    "gs = GridSearchCV(clf, grid,cv=3)\n",
    "gs_train = gs.fit(x_train, y_train)\n",
    "print ('gs.best_score_:', gs.best_score_) '''"
   ]
  },
  {
   "cell_type": "markdown",
   "metadata": {
    "colab_type": "text",
    "id": "D6ZKDQmjrZe-"
   },
   "source": [
    "### Best hyparameters "
   ]
  },
  {
   "cell_type": "code",
   "execution_count": 0,
   "metadata": {
    "colab": {
     "base_uri": "https://localhost:8080/",
     "height": 54
    },
    "colab_type": "code",
    "id": "wk0_qMlttWTU",
    "outputId": "d5f64542-490e-4665-be0e-35058000049d"
   },
   "outputs": [
    {
     "data": {
      "text/plain": [
       "\"print ('gs.best_param:', gs.best_params_)\""
      ]
     },
     "execution_count": 209,
     "metadata": {
      "tags": []
     },
     "output_type": "execute_result"
    }
   ],
   "source": [
    "'''print ('gs.best_param:', gs.best_params_)'''"
   ]
  },
  {
   "cell_type": "markdown",
   "metadata": {
    "colab_type": "text",
    "id": "SoKjRocRrZbW"
   },
   "source": [
    "### Creation of the model "
   ]
  },
  {
   "cell_type": "code",
   "execution_count": 0,
   "metadata": {
    "colab": {},
    "colab_type": "code",
    "id": "wsdKLOQUtZsT"
   },
   "outputs": [],
   "source": [
    "# Une fois les hyperparametres optimisés, on les rentre pour la fonction et on regarde le accuracy sur le test set \n",
    "model = SVC(C = 0.01, kernel = 'poly', tol= 0.0001 )"
   ]
  },
  {
   "cell_type": "markdown",
   "metadata": {
    "colab_type": "text",
    "id": "L8zrClC4rZX1"
   },
   "source": [
    "### Training of the model "
   ]
  },
  {
   "cell_type": "code",
   "execution_count": 0,
   "metadata": {
    "colab": {
     "base_uri": "https://localhost:8080/",
     "height": 105
    },
    "colab_type": "code",
    "id": "jlcsgX2vtgtf",
    "outputId": "784476d4-73b8-4265-d315-ecbfbb1f0e27"
   },
   "outputs": [
    {
     "data": {
      "text/plain": [
       "SVC(C=0.01, cache_size=200, class_weight=None, coef0=0.0,\n",
       "  decision_function_shape='ovr', degree=3, gamma='auto', kernel='poly',\n",
       "  max_iter=-1, probability=False, random_state=None, shrinking=True,\n",
       "  tol=0.0001, verbose=False)"
      ]
     },
     "execution_count": 211,
     "metadata": {
      "tags": []
     },
     "output_type": "execute_result"
    }
   ],
   "source": [
    "model.fit(x_train,y_train)"
   ]
  },
  {
   "cell_type": "markdown",
   "metadata": {
    "colab_type": "text",
    "id": "6WUgLzl_rZS-"
   },
   "source": [
    "### Test set prediction & Accuracy "
   ]
  },
  {
   "cell_type": "code",
   "execution_count": 0,
   "metadata": {
    "colab": {
     "base_uri": "https://localhost:8080/",
     "height": 54
    },
    "colab_type": "code",
    "id": "IsGgZpLBtiGp",
    "outputId": "125a9d6f-5faf-4f51-c25e-4b5ef5e15788"
   },
   "outputs": [
    {
     "data": {
      "text/plain": [
       "0.8918831431577243"
      ]
     },
     "execution_count": 212,
     "metadata": {
      "tags": []
     },
     "output_type": "execute_result"
    }
   ],
   "source": [
    "pre = model.predict(x_test)\n",
    "accuracy_score(y_test,pre)"
   ]
  },
  {
   "cell_type": "markdown",
   "metadata": {
    "colab_type": "text",
    "id": "jOAzGg_MthOx"
   },
   "source": [
    "### Confusion Matrix "
   ]
  },
  {
   "cell_type": "code",
   "execution_count": 0,
   "metadata": {
    "colab": {
     "base_uri": "https://localhost:8080/",
     "height": 71
    },
    "colab_type": "code",
    "id": "pW22GKe_qhYi",
    "outputId": "c73629d4-3544-4dc8-9a43-0b0894369c89"
   },
   "outputs": [
    {
     "data": {
      "text/plain": [
       "array([[10924,    56],\n",
       "       [ 1280,    97]])"
      ]
     },
     "execution_count": 213,
     "metadata": {
      "tags": []
     },
     "output_type": "execute_result"
    }
   ],
   "source": [
    "m = confusion_matrix(y_test, pre)\n",
    "m                  "
   ]
  },
  {
   "cell_type": "code",
   "execution_count": 0,
   "metadata": {
    "colab": {
     "base_uri": "https://localhost:8080/",
     "height": 367
    },
    "colab_type": "code",
    "id": "EPGyejzKqhV3",
    "outputId": "863c9866-ad78-4f56-aa78-54f594060e7b"
   },
   "outputs": [
    {
     "data": {
      "image/png": "[encoded data removed]",
      "text/plain": [
       "<matplotlib.figure.Figure at 0x7f72dcbd4748>"
      ]
     },
     "metadata": {
      "tags": []
     },
     "output_type": "display_data"
    }
   ],
   "source": [
    "sns.heatmap(m, center=True)\n",
    "plt.show()"
   ]
  },
  {
   "cell_type": "markdown",
   "metadata": {
    "colab_type": "text",
    "id": "qlUpF83Q__zw"
   },
   "source": [
    "## 4.Neural Network"
   ]
  },
  {
   "cell_type": "markdown",
   "metadata": {
    "colab_type": "text",
    "id": "nTFRgT7NGnvV"
   },
   "source": [
    "### Hyperparameters Tuning "
   ]
  },
  {
   "cell_type": "code",
   "execution_count": 0,
   "metadata": {
    "colab": {
     "base_uri": "https://localhost:8080/",
     "height": 74
    },
    "colab_type": "code",
    "id": "6hjsy2wtGtBI",
    "outputId": "787c7dec-d05e-4f5f-d181-4c58562369ae"
   },
   "outputs": [
    {
     "data": {
      "text/plain": [
       "\"\\ngrid = {\\n        'activation' : ( 'logistic', 'tanh', 'relu'),\\n        'solver' : ('lbfgs', 'sgd', 'adam') , \\n        'alpha' : [1e-4,1e-1],\\n        'batch_size' : [50,100],\\n        'max_iter' : [100,500],\\n    }\\nclf = MLPClassifier( random_state=6,verbose=False) \\ngs = GridSearchCV(clf, grid,cv=3)\\ngs_train = gs.fit(x_train, y_train)\\nprint ('gs.best_score_:', gs.best_score_) \""
      ]
     },
     "execution_count": 215,
     "metadata": {
      "tags": []
     },
     "output_type": "execute_result"
    }
   ],
   "source": [
    "'''\n",
    "grid = {\n",
    "        'activation' : ( 'logistic', 'tanh', 'relu'),\n",
    "        'solver' : ('lbfgs', 'sgd', 'adam') , \n",
    "        'alpha' : [1e-4,1e-1],\n",
    "        'batch_size' : [50,100],\n",
    "        'max_iter' : [100,500],\n",
    "    }\n",
    "clf = MLPClassifier( random_state=6,verbose=False) \n",
    "gs = GridSearchCV(clf, grid,cv=3)\n",
    "gs_train = gs.fit(x_train, y_train)\n",
    "print ('gs.best_score_:', gs.best_score_) '''"
   ]
  },
  {
   "cell_type": "markdown",
   "metadata": {
    "colab_type": "text",
    "id": "YGNXNwh6GsBp"
   },
   "source": [
    "### Best hyparameters "
   ]
  },
  {
   "cell_type": "code",
   "execution_count": 0,
   "metadata": {
    "colab": {
     "base_uri": "https://localhost:8080/",
     "height": 54
    },
    "colab_type": "code",
    "id": "mFhRf9pNGtXm",
    "outputId": "f7ff3ee2-23e6-4ee3-f0ec-8838766f07e1"
   },
   "outputs": [
    {
     "data": {
      "text/plain": [
       "\"print ('gs.best_param:', gs.best_params_)\""
      ]
     },
     "execution_count": 216,
     "metadata": {
      "tags": []
     },
     "output_type": "execute_result"
    }
   ],
   "source": [
    "'''print ('gs.best_param:', gs.best_params_)'''"
   ]
  },
  {
   "cell_type": "markdown",
   "metadata": {
    "colab_type": "text",
    "id": "xj-sbBnHAL4m"
   },
   "source": [
    "### Creation of the model "
   ]
  },
  {
   "cell_type": "code",
   "execution_count": 0,
   "metadata": {
    "colab": {},
    "colab_type": "code",
    "id": "EYqxI3cmBJ17"
   },
   "outputs": [],
   "source": [
    "mlp = MLPClassifier(hidden_layer_sizes=(5,1),verbose=1,\n",
    "                    learning_rate_init= 0.01, max_iter=100,activation= 'tanh',\n",
    "                   solver = 'sgd',batch_size=50)"
   ]
  },
  {
   "cell_type": "markdown",
   "metadata": {
    "colab_type": "text",
    "id": "jGpYlpbaAPuN"
   },
   "source": [
    "### Training of the model "
   ]
  },
  {
   "cell_type": "code",
   "execution_count": 0,
   "metadata": {
    "colab": {
     "base_uri": "https://localhost:8080/",
     "height": 785
    },
    "colab_type": "code",
    "id": "myxG2PXTBcpE",
    "outputId": "2c904e25-29ff-4a72-cfa9-24620c936877"
   },
   "outputs": [
    {
     "name": "stdout",
     "output_type": "stream",
     "text": [
      "Iteration 1, loss = 0.35574670\n",
      "Iteration 2, loss = 0.29872163\n",
      "Iteration 3, loss = 0.28045224\n",
      "Iteration 4, loss = 0.27806233\n",
      "Iteration 5, loss = 0.27743851\n",
      "Iteration 6, loss = 0.27680068\n",
      "Iteration 7, loss = 0.27631678\n",
      "Iteration 8, loss = 0.27565526\n",
      "Iteration 9, loss = 0.27591550\n",
      "Iteration 10, loss = 0.27520167\n",
      "Iteration 11, loss = 0.27479860\n",
      "Iteration 12, loss = 0.27442259\n",
      "Iteration 13, loss = 0.27420945\n",
      "Iteration 14, loss = 0.27420827\n",
      "Iteration 15, loss = 0.27379580\n",
      "Iteration 16, loss = 0.27342798\n",
      "Iteration 17, loss = 0.27336147\n",
      "Iteration 18, loss = 0.27311620\n",
      "Iteration 19, loss = 0.27293613\n",
      "Iteration 20, loss = 0.27248596\n",
      "Iteration 21, loss = 0.27238828\n",
      "Iteration 22, loss = 0.27212458\n",
      "Iteration 23, loss = 0.27214913\n",
      "Iteration 24, loss = 0.27195700\n",
      "Iteration 25, loss = 0.27171570\n",
      "Iteration 26, loss = 0.27171713\n",
      "Iteration 27, loss = 0.27176211\n",
      "Iteration 28, loss = 0.27139008\n",
      "Iteration 29, loss = 0.27140560\n",
      "Iteration 30, loss = 0.27101632\n",
      "Iteration 31, loss = 0.27138813\n",
      "Iteration 32, loss = 0.27112834\n",
      "Iteration 33, loss = 0.27085345\n",
      "Iteration 34, loss = 0.27080170\n",
      "Iteration 35, loss = 0.27078709\n",
      "Iteration 36, loss = 0.27069736\n",
      "Training loss did not improve more than tol=0.000100 for two consecutive epochs. Stopping.\n"
     ]
    },
    {
     "data": {
      "text/plain": [
       "MLPClassifier(activation='tanh', alpha=0.0001, batch_size=50, beta_1=0.9,\n",
       "       beta_2=0.999, early_stopping=False, epsilon=1e-08,\n",
       "       hidden_layer_sizes=(5, 1), learning_rate='constant',\n",
       "       learning_rate_init=0.01, max_iter=100, momentum=0.9,\n",
       "       nesterovs_momentum=True, power_t=0.5, random_state=None,\n",
       "       shuffle=True, solver='sgd', tol=0.0001, validation_fraction=0.1,\n",
       "       verbose=1, warm_start=False)"
      ]
     },
     "execution_count": 218,
     "metadata": {
      "tags": []
     },
     "output_type": "execute_result"
    }
   ],
   "source": [
    "mlp.fit(x_train, y_train)"
   ]
  },
  {
   "cell_type": "markdown",
   "metadata": {
    "colab_type": "text",
    "id": "A6qi5NW1ASeH"
   },
   "source": [
    "### Test set prediction & Accuracy "
   ]
  },
  {
   "cell_type": "code",
   "execution_count": 0,
   "metadata": {
    "colab": {
     "base_uri": "https://localhost:8080/",
     "height": 54
    },
    "colab_type": "code",
    "id": "QLry1_-tBXPx",
    "outputId": "fcf5ac43-0255-4f56-933a-0bfc39179d8d"
   },
   "outputs": [
    {
     "data": {
      "text/plain": [
       "0.8992473901432386"
      ]
     },
     "execution_count": 219,
     "metadata": {
      "tags": []
     },
     "output_type": "execute_result"
    }
   ],
   "source": [
    "pre = mlp.predict(x_test)\n",
    "accuracy_score(y_test,pre)"
   ]
  },
  {
   "cell_type": "markdown",
   "metadata": {
    "colab_type": "text",
    "id": "z1unsjowAUq7"
   },
   "source": [
    "### Confusion Matrix "
   ]
  },
  {
   "cell_type": "code",
   "execution_count": 0,
   "metadata": {
    "colab": {
     "base_uri": "https://localhost:8080/",
     "height": 71
    },
    "colab_type": "code",
    "id": "ors8F4Hxqg8Z",
    "outputId": "b2b65ad5-0b56-423d-9fbe-f41d2208c002"
   },
   "outputs": [
    {
     "data": {
      "text/plain": [
       "array([[10765,   215],\n",
       "       [ 1030,   347]])"
      ]
     },
     "execution_count": 220,
     "metadata": {
      "tags": []
     },
     "output_type": "execute_result"
    }
   ],
   "source": [
    "m = confusion_matrix(y_test, pre)\n",
    "m"
   ]
  },
  {
   "cell_type": "code",
   "execution_count": 0,
   "metadata": {
    "colab": {
     "base_uri": "https://localhost:8080/",
     "height": 367
    },
    "colab_type": "code",
    "id": "jMnx-n8ZDzR4",
    "outputId": "fedb154a-3240-4d50-f2b8-3011405ff697"
   },
   "outputs": [
    {
     "data": {
      "image/png": "[encoded data removed]",
      "text/plain": [
       "<matplotlib.figure.Figure at 0x7f72dcb33470>"
      ]
     },
     "metadata": {
      "tags": []
     },
     "output_type": "display_data"
    }
   ],
   "source": [
    "sns.heatmap(m, center=True)\n",
    "plt.show()"
   ]
  },
  {
   "cell_type": "markdown",
   "metadata": {
    "colab_type": "text",
    "id": "ysv-xPog7Ocl"
   },
   "source": [
    "# Models with strategy 2 :  Compensate the under-representation of the minority class in the dataset  for the algorithms using class_weight"
   ]
  },
  {
   "cell_type": "code",
   "execution_count": 0,
   "metadata": {
    "colab": {
     "base_uri": "https://localhost:8080/",
     "height": 34
    },
    "colab_type": "code",
    "id": "qeOniEPbCMOk",
    "outputId": "5ed400ff-ed87-4322-b17c-63237e6d252d"
   },
   "outputs": [
    {
     "data": {
      "text/plain": [
       "array([0.56381023, 4.41786699])"
      ]
     },
     "execution_count": 222,
     "metadata": {
      "tags": []
     },
     "output_type": "execute_result"
    }
   ],
   "source": [
    "from sklearn.utils import class_weight\n",
    "\n",
    "class_weights = class_weight.compute_class_weight('balanced',\n",
    "                                                 np.unique(y_train),\n",
    "                                                 y_train)\n",
    "class_weights"
   ]
  },
  {
   "cell_type": "markdown",
   "metadata": {
    "colab_type": "text",
    "id": "OXxyxKnc7bvY"
   },
   "source": [
    "##1. Logistic Regression "
   ]
  },
  {
   "cell_type": "markdown",
   "metadata": {
    "colab_type": "text",
    "id": "SznEKEneCEKm"
   },
   "source": [
    "### Creation of the model "
   ]
  },
  {
   "cell_type": "code",
   "execution_count": 0,
   "metadata": {
    "colab": {},
    "colab_type": "code",
    "id": "FaavIiDjGkl7"
   },
   "outputs": [],
   "source": [
    "# Une fois les hyperparametres optimisés, on les rentre pour la fonction et on regarde le accuracy sur le test set \n",
    "model = LogisticRegression(class_weight=class_weights, penalty='l2', random_state=7 , max_iter=100, C = 0.1 , solver = 'newton-cg',tol = 0.0001 )"
   ]
  },
  {
   "cell_type": "markdown",
   "metadata": {
    "colab_type": "text",
    "id": "t5HTh5q9G6zG"
   },
   "source": [
    "### Training of the model "
   ]
  },
  {
   "cell_type": "code",
   "execution_count": 0,
   "metadata": {
    "colab": {
     "base_uri": "https://localhost:8080/",
     "height": 105
    },
    "colab_type": "code",
    "id": "ot218_FoG33b",
    "outputId": "aa5c578b-69df-4fa2-aae3-a584744c0dfe"
   },
   "outputs": [
    {
     "data": {
      "text/plain": [
       "LogisticRegression(C=0.1, class_weight=array([0.56381, 4.41787]), dual=False,\n",
       "          fit_intercept=True, intercept_scaling=1, max_iter=100,\n",
       "          multi_class='ovr', n_jobs=1, penalty='l2', random_state=7,\n",
       "          solver='newton-cg', tol=0.0001, verbose=0, warm_start=False)"
      ]
     },
     "execution_count": 224,
     "metadata": {
      "tags": []
     },
     "output_type": "execute_result"
    }
   ],
   "source": [
    "model.fit(x_train,y_train)"
   ]
  },
  {
   "cell_type": "markdown",
   "metadata": {
    "colab_type": "text",
    "id": "4kKSSVBwG_jZ"
   },
   "source": [
    "### Test set prediction & Accuracy"
   ]
  },
  {
   "cell_type": "code",
   "execution_count": 0,
   "metadata": {
    "colab": {
     "base_uri": "https://localhost:8080/",
     "height": 54
    },
    "colab_type": "code",
    "id": "IvRp0QY6G3zb",
    "outputId": "91a24a96-5ae0-489f-beae-150147cb3697"
   },
   "outputs": [
    {
     "data": {
      "text/plain": [
       "0.8990046127700898"
      ]
     },
     "execution_count": 225,
     "metadata": {
      "tags": []
     },
     "output_type": "execute_result"
    }
   ],
   "source": [
    "pre = model.predict(x_test)\n",
    "accuracy_score(y_test,pre)"
   ]
  },
  {
   "cell_type": "markdown",
   "metadata": {
    "colab_type": "text",
    "id": "3EhOrk4_HCrR"
   },
   "source": [
    "### Confusion Matrix "
   ]
  },
  {
   "cell_type": "code",
   "execution_count": 0,
   "metadata": {
    "colab": {
     "base_uri": "https://localhost:8080/",
     "height": 71
    },
    "colab_type": "code",
    "id": "LlzoyPIiHE9L",
    "outputId": "9708ed9b-232d-4ea6-da72-713f1b880358"
   },
   "outputs": [
    {
     "data": {
      "text/plain": [
       "array([[10803,   177],\n",
       "       [ 1071,   306]])"
      ]
     },
     "execution_count": 226,
     "metadata": {
      "tags": []
     },
     "output_type": "execute_result"
    }
   ],
   "source": [
    "m = confusion_matrix(y_test, pre)\n",
    "m"
   ]
  },
  {
   "cell_type": "code",
   "execution_count": 0,
   "metadata": {
    "colab": {
     "base_uri": "https://localhost:8080/",
     "height": 367
    },
    "colab_type": "code",
    "id": "gEkqFcs-HE47",
    "outputId": "e1274525-31e0-4a5a-ec4b-0fd06f095dd8"
   },
   "outputs": [
    {
     "data": {
      "image/png": "[encoded data removed]",
      "text/plain": [
       "<matplotlib.figure.Figure at 0x7f72dca3b710>"
      ]
     },
     "metadata": {
      "tags": []
     },
     "output_type": "display_data"
    }
   ],
   "source": [
    "sns.heatmap(m, center=True)\n",
    "plt.show()"
   ]
  },
  {
   "cell_type": "markdown",
   "metadata": {
    "colab_type": "text",
    "id": "o8TaaMFTHTpq"
   },
   "source": [
    "## 2. Random Forest "
   ]
  },
  {
   "cell_type": "markdown",
   "metadata": {
    "colab_type": "text",
    "id": "Lpa-NLUVHbH4"
   },
   "source": [
    "### Creation of the model "
   ]
  },
  {
   "cell_type": "code",
   "execution_count": 0,
   "metadata": {
    "colab": {},
    "colab_type": "code",
    "id": "kwSr3tcrKsWT"
   },
   "outputs": [],
   "source": [
    "# Une fois les hyperparametres optimisés, on les rentre pour la fonction et on regarde le accuracy sur le test set \n",
    "model = RandomForestClassifier(class_weight={1:0.56,\n",
    "                                             0:6.01} , max_depth= 15, verbose = 1, max_features = 'log2', n_estimators= 200 , criterion = 'gini')"
   ]
  },
  {
   "cell_type": "markdown",
   "metadata": {
    "colab_type": "text",
    "id": "0yRC18xdHeZ8"
   },
   "source": [
    "### Training the model "
   ]
  },
  {
   "cell_type": "code",
   "execution_count": 0,
   "metadata": {
    "colab": {
     "base_uri": "https://localhost:8080/",
     "height": 173
    },
    "colab_type": "code",
    "id": "26AL3hV1Ks5F",
    "outputId": "79223ce9-314e-4d74-da78-769323b08bf1"
   },
   "outputs": [
    {
     "name": "stderr",
     "output_type": "stream",
     "text": [
      "[Parallel(n_jobs=1)]: Done 200 out of 200 | elapsed:    6.8s finished\n"
     ]
    },
    {
     "data": {
      "text/plain": [
       "RandomForestClassifier(bootstrap=True, class_weight={1: 0.56, 0: 6.01},\n",
       "            criterion='gini', max_depth=15, max_features='log2',\n",
       "            max_leaf_nodes=None, min_impurity_decrease=0.0,\n",
       "            min_impurity_split=None, min_samples_leaf=1,\n",
       "            min_samples_split=2, min_weight_fraction_leaf=0.0,\n",
       "            n_estimators=200, n_jobs=1, oob_score=False, random_state=None,\n",
       "            verbose=1, warm_start=False)"
      ]
     },
     "execution_count": 229,
     "metadata": {
      "tags": []
     },
     "output_type": "execute_result"
    }
   ],
   "source": [
    "model.fit(x_train,y_train)"
   ]
  },
  {
   "cell_type": "markdown",
   "metadata": {
    "colab_type": "text",
    "id": "yjO-AVA7KmHY"
   },
   "source": [
    "### Test set prediction & Accuracy"
   ]
  },
  {
   "cell_type": "code",
   "execution_count": 0,
   "metadata": {
    "colab": {
     "base_uri": "https://localhost:8080/",
     "height": 71
    },
    "colab_type": "code",
    "id": "xxRdH49PKtfS",
    "outputId": "c209dc73-fbc4-41dd-8f50-4824eb30ecae"
   },
   "outputs": [
    {
     "name": "stderr",
     "output_type": "stream",
     "text": [
      "[Parallel(n_jobs=1)]: Done 200 out of 200 | elapsed:    0.4s finished\n"
     ]
    },
    {
     "data": {
      "text/plain": [
       "0.8971433195759488"
      ]
     },
     "execution_count": 230,
     "metadata": {
      "tags": []
     },
     "output_type": "execute_result"
    }
   ],
   "source": [
    "pre = model.predict(x_test)\n",
    "accuracy_score(y_test,pre) "
   ]
  },
  {
   "cell_type": "markdown",
   "metadata": {
    "colab_type": "text",
    "id": "80_qfKY-Kq9A"
   },
   "source": [
    "### Confusion Matrix "
   ]
  },
  {
   "cell_type": "code",
   "execution_count": 0,
   "metadata": {
    "colab": {
     "base_uri": "https://localhost:8080/",
     "height": 71
    },
    "colab_type": "code",
    "id": "N8y7wrxrHMZa",
    "outputId": "f2945597-4ca4-4347-d5e8-988a637c9507"
   },
   "outputs": [
    {
     "data": {
      "text/plain": [
       "array([[10902,    78],\n",
       "       [ 1193,   184]])"
      ]
     },
     "execution_count": 231,
     "metadata": {
      "tags": []
     },
     "output_type": "execute_result"
    }
   ],
   "source": [
    "m = confusion_matrix(y_test, pre)\n",
    "m"
   ]
  },
  {
   "cell_type": "code",
   "execution_count": 0,
   "metadata": {
    "colab": {
     "base_uri": "https://localhost:8080/",
     "height": 367
    },
    "colab_type": "code",
    "id": "ZW6qAmPTHMKL",
    "outputId": "e3d7281e-0ae6-409b-829c-3b438a18fd42"
   },
   "outputs": [
    {
     "data": {
      "image/png": "[encoded data removed]",
      "text/plain": [
       "<matplotlib.figure.Figure at 0x7f72dcb02eb8>"
      ]
     },
     "metadata": {
      "tags": []
     },
     "output_type": "display_data"
    }
   ],
   "source": [
    "sns.heatmap(m, center=True)\n",
    "plt.show()"
   ]
  },
  {
   "cell_type": "markdown",
   "metadata": {
    "colab_type": "text",
    "id": "Wxmyhet2LTJG"
   },
   "source": [
    "## 3.SVM"
   ]
  },
  {
   "cell_type": "markdown",
   "metadata": {
    "colab_type": "text",
    "id": "QT3-WAmMLZsk"
   },
   "source": [
    "### Creation of the model "
   ]
  },
  {
   "cell_type": "code",
   "execution_count": 0,
   "metadata": {
    "colab": {},
    "colab_type": "code",
    "id": "EZTklNpTLeka"
   },
   "outputs": [],
   "source": [
    "# Une fois les hyperparametres optimisés, on les rentre pour la fonction et on regarde le accuracy sur le test set \n",
    "model = SVC(class_weight={0:0.56,\n",
    "                          1:4.01} ,C = 0.01, kernel = 'poly', tol= 0.0001 )"
   ]
  },
  {
   "cell_type": "code",
   "execution_count": 0,
   "metadata": {
    "colab": {},
    "colab_type": "code",
    "id": "2VzsM0lfbClW"
   },
   "outputs": [],
   "source": [
    "#kernel': ('linear', 'poly', 'rbf','sigmoid')"
   ]
  },
  {
   "cell_type": "markdown",
   "metadata": {
    "colab_type": "text",
    "id": "GV9Ccfw-Lb6p"
   },
   "source": [
    "### Training of the model "
   ]
  },
  {
   "cell_type": "code",
   "execution_count": 0,
   "metadata": {
    "colab": {
     "base_uri": "https://localhost:8080/",
     "height": 85
    },
    "colab_type": "code",
    "id": "WKgLSIlaLfEf",
    "outputId": "b37ec885-0397-462c-bbd2-e061e849a86d"
   },
   "outputs": [
    {
     "data": {
      "text/plain": [
       "SVC(C=0.01, cache_size=200, class_weight={0: 0.56, 1: 4.01}, coef0=0.0,\n",
       "  decision_function_shape='ovr', degree=3, gamma='auto', kernel='poly',\n",
       "  max_iter=-1, probability=False, random_state=None, shrinking=True,\n",
       "  tol=0.0001, verbose=False)"
      ]
     },
     "execution_count": 284,
     "metadata": {
      "tags": []
     },
     "output_type": "execute_result"
    }
   ],
   "source": [
    "model.fit(x_train,y_train)"
   ]
  },
  {
   "cell_type": "markdown",
   "metadata": {
    "colab_type": "text",
    "id": "dJ7fVPuYLY2k"
   },
   "source": [
    "### Test set prediction & Accuracy"
   ]
  },
  {
   "cell_type": "code",
   "execution_count": 0,
   "metadata": {
    "colab": {
     "base_uri": "https://localhost:8080/",
     "height": 34
    },
    "colab_type": "code",
    "id": "HCJy59OvHMGD",
    "outputId": "3fac1a74-dfd2-44b0-c5ad-6291d24ba33a"
   },
   "outputs": [
    {
     "data": {
      "text/plain": [
       "0.8975479485311969"
      ]
     },
     "execution_count": 285,
     "metadata": {
      "tags": []
     },
     "output_type": "execute_result"
    }
   ],
   "source": [
    "pre = model.predict(x_test)\n",
    "accuracy_score(y_test,pre)"
   ]
  },
  {
   "cell_type": "markdown",
   "metadata": {
    "colab_type": "text",
    "id": "CEvQJ6zxLfzO"
   },
   "source": [
    "### Confusion Matrix "
   ]
  },
  {
   "cell_type": "code",
   "execution_count": 0,
   "metadata": {
    "colab": {
     "base_uri": "https://localhost:8080/",
     "height": 51
    },
    "colab_type": "code",
    "id": "IYiGADCAHMDv",
    "outputId": "ce894c8d-21b4-45a4-d171-3cda3f3344a2"
   },
   "outputs": [
    {
     "data": {
      "text/plain": [
       "array([[10802,   178],\n",
       "       [ 1088,   289]])"
      ]
     },
     "execution_count": 286,
     "metadata": {
      "tags": []
     },
     "output_type": "execute_result"
    }
   ],
   "source": [
    "m = confusion_matrix(y_test, pre)\n",
    "m                  "
   ]
  },
  {
   "cell_type": "code",
   "execution_count": 0,
   "metadata": {
    "colab": {
     "base_uri": "https://localhost:8080/",
     "height": 347
    },
    "colab_type": "code",
    "id": "7WZhjvi6HL_g",
    "outputId": "8d72c332-0735-473c-bb9a-fb2e2423d1e1"
   },
   "outputs": [
    {
     "data": {
      "image/png": "[encoded data removed]",
      "text/plain": [
       "<matplotlib.figure.Figure at 0x7f72f55a83c8>"
      ]
     },
     "metadata": {
      "tags": []
     },
     "output_type": "display_data"
    }
   ],
   "source": [
    "sns.heatmap(m, center=True)\n",
    "plt.show()"
   ]
  },
  {
   "cell_type": "markdown",
   "metadata": {
    "colab_type": "text",
    "id": "7NzwvdVNK11c"
   },
   "source": [
    "## 4 Neural Network"
   ]
  },
  {
   "cell_type": "markdown",
   "metadata": {
    "colab_type": "text",
    "id": "VZEJMsB2OLpy"
   },
   "source": [
    "### Creation of the model "
   ]
  },
  {
   "cell_type": "code",
   "execution_count": 0,
   "metadata": {
    "colab": {
     "base_uri": "https://localhost:8080/",
     "height": 54
    },
    "colab_type": "code",
    "id": "zBi0DKc4LC5-",
    "outputId": "70226c59-e44e-4285-b9d9-6e1c257e75e5"
   },
   "outputs": [
    {
     "name": "stdout",
     "output_type": "stream",
     "text": [
      "12357/12357 [==============================] - 1s 42us/step\n"
     ]
    }
   ],
   "source": [
    "# create model\n",
    "model = Sequential()\n",
    "model.add(Dense(6, input_dim=64, kernel_initializer='normal', activation='linear'))\n",
    "model.add(Dropout(0.3))\n",
    "\n",
    "model.add(Dense(1, kernel_initializer='normal', activation='sigmoid'))\n",
    "\n",
    "# Compile model\n",
    "model.compile(loss='binary_crossentropy', optimizer='adam', metrics=['acc'])\n",
    "\n",
    "\n",
    "ftrain = model.predict_classes(x_test,verbose=1)\n",
    "#plt.plot(ftrain)"
   ]
  },
  {
   "cell_type": "markdown",
   "metadata": {
    "colab_type": "text",
    "id": "4kxpwXDZOPEx"
   },
   "source": [
    "### Training of the model "
   ]
  },
  {
   "cell_type": "code",
   "execution_count": 0,
   "metadata": {
    "colab": {
     "base_uri": "https://localhost:8080/",
     "height": 224
    },
    "colab_type": "code",
    "id": "shyOs4xYLcOo",
    "outputId": "ca35b210-a641-434e-bdb9-52c71c121a5b"
   },
   "outputs": [
    {
     "name": "stdout",
     "output_type": "stream",
     "text": [
      "Train on 20181 samples, validate on 8650 samples\n",
      "Epoch 1/5\n",
      "20181/20181 [==============================] - 3s 155us/step - loss: 0.3828 - acc: 0.8817 - val_loss: 0.2936 - val_acc: 0.8968\n",
      "Epoch 2/5\n",
      "20181/20181 [==============================] - 3s 141us/step - loss: 0.3004 - acc: 0.8995 - val_loss: 0.2861 - val_acc: 0.8970\n",
      "Epoch 3/5\n",
      "20181/20181 [==============================] - 3s 140us/step - loss: 0.2954 - acc: 0.8991 - val_loss: 0.2829 - val_acc: 0.8970\n",
      "Epoch 4/5\n",
      "20181/20181 [==============================] - 3s 140us/step - loss: 0.2925 - acc: 0.8990 - val_loss: 0.2814 - val_acc: 0.8979\n",
      "Epoch 5/5\n",
      "20181/20181 [==============================] - 3s 140us/step - loss: 0.2905 - acc: 0.8995 - val_loss: 0.2806 - val_acc: 0.8984\n"
     ]
    }
   ],
   "source": [
    "model_train = model.fit(x_train, y_train, validation_split=0.3, epochs=5, batch_size=50, verbose=1,class_weight = class_weights )"
   ]
  },
  {
   "cell_type": "markdown",
   "metadata": {
    "colab_type": "text",
    "id": "bo_YiRrDOTGG"
   },
   "source": [
    "### Test set prediction & Accuracy"
   ]
  },
  {
   "cell_type": "code",
   "execution_count": 0,
   "metadata": {
    "colab": {
     "base_uri": "https://localhost:8080/",
     "height": 54
    },
    "colab_type": "code",
    "id": "kxA8-_EnLcMB",
    "outputId": "c40bee3b-8785-45cd-bed8-92621b06c736"
   },
   "outputs": [
    {
     "data": {
      "text/plain": [
       "0.8978716516953953"
      ]
     },
     "execution_count": 240,
     "metadata": {
      "tags": []
     },
     "output_type": "execute_result"
    }
   ],
   "source": [
    "pre = model.predict_classes(x_test,verbose=0)\n",
    "accuracy_score(y_test,pre)"
   ]
  },
  {
   "cell_type": "markdown",
   "metadata": {
    "colab_type": "text",
    "id": "bOdtYOGzOTt0"
   },
   "source": [
    "### Confusion Matrix"
   ]
  },
  {
   "cell_type": "code",
   "execution_count": 0,
   "metadata": {
    "colab": {
     "base_uri": "https://localhost:8080/",
     "height": 71
    },
    "colab_type": "code",
    "id": "eTR0Zm3cLcJF",
    "outputId": "ff4f5811-3d0f-44ef-ae57-c3733fd517df"
   },
   "outputs": [
    {
     "data": {
      "text/plain": [
       "array([[10821,   159],\n",
       "       [ 1103,   274]])"
      ]
     },
     "execution_count": 241,
     "metadata": {
      "tags": []
     },
     "output_type": "execute_result"
    }
   ],
   "source": [
    "m = confusion_matrix(y_test, pre)\n",
    "m"
   ]
  },
  {
   "cell_type": "code",
   "execution_count": 0,
   "metadata": {
    "colab": {
     "base_uri": "https://localhost:8080/",
     "height": 367
    },
    "colab_type": "code",
    "id": "Ob2nlCNNL9wE",
    "outputId": "6732f7fa-05ee-4592-8abd-a0a08c7ea7c5"
   },
   "outputs": [
    {
     "data": {
      "image/png": "[encoded data removed]",
      "text/plain": [
       "<matplotlib.figure.Figure at 0x7f72dd6420f0>"
      ]
     },
     "metadata": {
      "tags": []
     },
     "output_type": "display_data"
    }
   ],
   "source": [
    "sns.heatmap(m, center=True)\n",
    "plt.show()"
   ]
  },
  {
   "cell_type": "code",
   "execution_count": 0,
   "metadata": {
    "colab": {},
    "colab_type": "code",
    "id": "CEkgcoxnHL2_"
   },
   "outputs": [],
   "source": []
  }
 ],
 "metadata": {
  "accelerator": "GPU",
  "colab": {
   "collapsed_sections": [
    "nWQd2OWbdkh3",
    "1ML__cuxd0LG",
    "cwAjr3H0fEYs",
    "fHixWpedjdGO",
    "rPzjPbr2mE0s",
    "TNBbmRP_oFY5",
    "6B2VOc5oqR-I",
    "nJ6faouSrMS4",
    "qlUpF83Q__zw",
    "OXxyxKnc7bvY",
    "o8TaaMFTHTpq",
    "Wxmyhet2LTJG",
    "7NzwvdVNK11c"
   ],
   "name": "BANKING FINAL",
   "provenance": [],
   "version": "0.3.2"
  },
  "kernelspec": {
   "display_name": "Python 3",
   "language": "python",
   "name": "python3"
  },
  "language_info": {
   "codemirror_mode": {
    "name": "ipython",
    "version": 3
   },
   "file_extension": ".py",
   "mimetype": "text/x-python",
   "name": "python",
   "nbconvert_exporter": "python",
   "pygments_lexer": "ipython3",
   "version": "3.6.8"
  }
 },
 "nbformat": 4,
 "nbformat_minor": 1
}
