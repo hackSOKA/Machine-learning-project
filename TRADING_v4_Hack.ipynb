{
 "cells": [
  {
   "cell_type": "markdown",
   "metadata": {
    "colab_type": "text",
    "id": "nSaeg9seutCc"
   },
   "source": [
    "# Trading Dataset: S&P 500"
   ]
  },
  {
   "cell_type": "code",
   "execution_count": 1,
   "metadata": {
    "colab": {},
    "colab_type": "code",
    "id": "c3-PWoMuutCg"
   },
   "outputs": [
    {
     "ename": "ModuleNotFoundError",
     "evalue": "No module named 'sklearn.cross_validation'",
     "output_type": "error",
     "traceback": [
      "\u001b[0;31m---------------------------------------------------------------------------\u001b[0m",
      "\u001b[0;31mModuleNotFoundError\u001b[0m                       Traceback (most recent call last)",
      "\u001b[0;32m<ipython-input-1-90c87feded5e>\u001b[0m in \u001b[0;36m<module>\u001b[0;34m()\u001b[0m\n\u001b[1;32m      7\u001b[0m \u001b[0;32mfrom\u001b[0m \u001b[0msklearn\u001b[0m\u001b[0;34m.\u001b[0m\u001b[0msvm\u001b[0m \u001b[0;32mimport\u001b[0m \u001b[0mSVC\u001b[0m\u001b[0;34m\u001b[0m\u001b[0;34m\u001b[0m\u001b[0m\n\u001b[1;32m      8\u001b[0m \u001b[0;32mfrom\u001b[0m \u001b[0msklearn\u001b[0m\u001b[0;34m.\u001b[0m\u001b[0mmodel_selection\u001b[0m \u001b[0;32mimport\u001b[0m \u001b[0mGridSearchCV\u001b[0m\u001b[0;34m\u001b[0m\u001b[0;34m\u001b[0m\u001b[0m\n\u001b[0;32m----> 9\u001b[0;31m \u001b[0;32mfrom\u001b[0m \u001b[0msklearn\u001b[0m\u001b[0;34m.\u001b[0m\u001b[0mcross_validation\u001b[0m \u001b[0;32mimport\u001b[0m \u001b[0mtrain_test_split\u001b[0m\u001b[0;34m\u001b[0m\u001b[0;34m\u001b[0m\u001b[0m\n\u001b[0m\u001b[1;32m     10\u001b[0m \u001b[0;32mfrom\u001b[0m \u001b[0msklearn\u001b[0m \u001b[0;32mimport\u001b[0m \u001b[0mgrid_search\u001b[0m\u001b[0;34m\u001b[0m\u001b[0;34m\u001b[0m\u001b[0m\n\u001b[1;32m     11\u001b[0m \u001b[0;32mfrom\u001b[0m \u001b[0msklearn\u001b[0m \u001b[0;32mimport\u001b[0m \u001b[0mmetrics\u001b[0m\u001b[0;34m\u001b[0m\u001b[0;34m\u001b[0m\u001b[0m\n",
      "\u001b[0;31mModuleNotFoundError\u001b[0m: No module named 'sklearn.cross_validation'"
     ]
    }
   ],
   "source": [
    "import numpy as np\n",
    "import pandas as pd\n",
    "import sklearn as sklearn\n",
    "from sklearn.model_selection import TimeSeriesSplit\n",
    "from sklearn.ensemble import RandomForestClassifier\n",
    "from sklearn.linear_model import LogisticRegression\n",
    "from sklearn.svm import SVC\n",
    "from sklearn.model_selection import GridSearchCV\n",
    "from sklearn.cross_validation import train_test_split\n",
    "from sklearn import grid_search\n",
    "from sklearn import metrics\n",
    "from sklearn.metrics import accuracy_score\n",
    "import time\n",
    "\n",
    "\n",
    "from sklearn.model_selection import TimeSeriesSplit\n",
    "from matplotlib import pyplot as plt"
   ]
  },
  {
   "cell_type": "markdown",
   "metadata": {
    "colab_type": "text",
    "id": "JjuP_xUDutCu"
   },
   "source": [
    "# Importing Dataset"
   ]
  },
  {
   "cell_type": "code",
   "execution_count": 2,
   "metadata": {
    "colab": {
     "base_uri": "https://localhost:8080/",
     "height": 197
    },
    "colab_type": "code",
    "id": "mrjar8noutCy",
    "outputId": "e41b9403-4ef5-44a6-dd73-80065789952b"
   },
   "outputs": [
    {
     "name": "stdout",
     "output_type": "stream",
     "text": [
      "(4725, 14)\n"
     ]
    },
    {
     "data": {
      "text/html": [
       "<div>\n",
       "<style scoped>\n",
       "    .dataframe tbody tr th:only-of-type {\n",
       "        vertical-align: middle;\n",
       "    }\n",
       "\n",
       "    .dataframe tbody tr th {\n",
       "        vertical-align: top;\n",
       "    }\n",
       "\n",
       "    .dataframe thead th {\n",
       "        text-align: right;\n",
       "    }\n",
       "</style>\n",
       "<table border=\"1\" class=\"dataframe\">\n",
       "  <thead>\n",
       "    <tr style=\"text-align: right;\">\n",
       "      <th></th>\n",
       "      <th>Date</th>\n",
       "      <th>EMA10</th>\n",
       "      <th>EMA25</th>\n",
       "      <th>USD/JPY</th>\n",
       "      <th>USD/EUR</th>\n",
       "      <th>USD/GBP</th>\n",
       "      <th>USD/HKD</th>\n",
       "      <th>GOLD</th>\n",
       "      <th>OIL</th>\n",
       "      <th>UK rate</th>\n",
       "      <th>Euro rate</th>\n",
       "      <th>FFR</th>\n",
       "      <th>T10Y-T2Y</th>\n",
       "      <th>OUPUT</th>\n",
       "    </tr>\n",
       "  </thead>\n",
       "  <tbody>\n",
       "    <tr>\n",
       "      <th>0</th>\n",
       "      <td>2000-02-08</td>\n",
       "      <td>0.01577</td>\n",
       "      <td>0.00949</td>\n",
       "      <td>0.00074</td>\n",
       "      <td>0.00059</td>\n",
       "      <td>0.01084</td>\n",
       "      <td>0.00008</td>\n",
       "      <td>-0.00662</td>\n",
       "      <td>0.00035</td>\n",
       "      <td>0.0575</td>\n",
       "      <td>0.0225</td>\n",
       "      <td>0.0567</td>\n",
       "      <td>-0.0010</td>\n",
       "      <td>0</td>\n",
       "    </tr>\n",
       "    <tr>\n",
       "      <th>1</th>\n",
       "      <td>2000-02-09</td>\n",
       "      <td>0.01594</td>\n",
       "      <td>0.01207</td>\n",
       "      <td>0.00027</td>\n",
       "      <td>0.00030</td>\n",
       "      <td>-0.00048</td>\n",
       "      <td>0.00003</td>\n",
       "      <td>0.01404</td>\n",
       "      <td>0.00071</td>\n",
       "      <td>0.0575</td>\n",
       "      <td>0.0225</td>\n",
       "      <td>0.0576</td>\n",
       "      <td>-0.0013</td>\n",
       "      <td>-1</td>\n",
       "    </tr>\n",
       "    <tr>\n",
       "      <th>2</th>\n",
       "      <td>2000-02-10</td>\n",
       "      <td>-0.00292</td>\n",
       "      <td>-0.00711</td>\n",
       "      <td>-0.00064</td>\n",
       "      <td>0.00099</td>\n",
       "      <td>-0.00500</td>\n",
       "      <td>0.00005</td>\n",
       "      <td>-0.00588</td>\n",
       "      <td>0.00591</td>\n",
       "      <td>0.0600</td>\n",
       "      <td>0.0225</td>\n",
       "      <td>0.0579</td>\n",
       "      <td>0.0000</td>\n",
       "      <td>0</td>\n",
       "    </tr>\n",
       "    <tr>\n",
       "      <th>3</th>\n",
       "      <td>2000-02-11</td>\n",
       "      <td>-0.00077</td>\n",
       "      <td>-0.00499</td>\n",
       "      <td>0.00046</td>\n",
       "      <td>0.00020</td>\n",
       "      <td>-0.00788</td>\n",
       "      <td>0.00008</td>\n",
       "      <td>0.00696</td>\n",
       "      <td>0.00034</td>\n",
       "      <td>0.0600</td>\n",
       "      <td>0.0225</td>\n",
       "      <td>0.0571</td>\n",
       "      <td>-0.0002</td>\n",
       "      <td>-1</td>\n",
       "    </tr>\n",
       "    <tr>\n",
       "      <th>4</th>\n",
       "      <td>2000-02-14</td>\n",
       "      <td>-0.01115</td>\n",
       "      <td>-0.01739</td>\n",
       "      <td>-0.00230</td>\n",
       "      <td>-0.00030</td>\n",
       "      <td>-0.00335</td>\n",
       "      <td>0.00005</td>\n",
       "      <td>0.00032</td>\n",
       "      <td>0.00000</td>\n",
       "      <td>0.0600</td>\n",
       "      <td>0.0225</td>\n",
       "      <td>0.0579</td>\n",
       "      <td>-0.0006</td>\n",
       "      <td>0</td>\n",
       "    </tr>\n",
       "  </tbody>\n",
       "</table>\n",
       "</div>"
      ],
      "text/plain": [
       "         Date    EMA10    EMA25  USD/JPY  USD/EUR  USD/GBP  USD/HKD     GOLD  \\\n",
       "0  2000-02-08  0.01577  0.00949  0.00074  0.00059  0.01084  0.00008 -0.00662   \n",
       "1  2000-02-09  0.01594  0.01207  0.00027  0.00030 -0.00048  0.00003  0.01404   \n",
       "2  2000-02-10 -0.00292 -0.00711 -0.00064  0.00099 -0.00500  0.00005 -0.00588   \n",
       "3  2000-02-11 -0.00077 -0.00499  0.00046  0.00020 -0.00788  0.00008  0.00696   \n",
       "4  2000-02-14 -0.01115 -0.01739 -0.00230 -0.00030 -0.00335  0.00005  0.00032   \n",
       "\n",
       "       OIL  UK rate  Euro rate     FFR  T10Y-T2Y  OUPUT  \n",
       "0  0.00035   0.0575     0.0225  0.0567   -0.0010      0  \n",
       "1  0.00071   0.0575     0.0225  0.0576   -0.0013     -1  \n",
       "2  0.00591   0.0600     0.0225  0.0579    0.0000      0  \n",
       "3  0.00034   0.0600     0.0225  0.0571   -0.0002     -1  \n",
       "4  0.00000   0.0600     0.0225  0.0579   -0.0006      0  "
      ]
     },
     "execution_count": 2,
     "metadata": {},
     "output_type": "execute_result"
    }
   ],
   "source": [
    "mydataset = pd.read_csv('dataset1.csv')\n",
    "spy = mydataset.iloc[:,:].values\n",
    "spy.shape[0]\n",
    "print(spy.shape)\n",
    "mydataset.head(5)"
   ]
  },
  {
   "cell_type": "markdown",
   "metadata": {
    "colab_type": "text",
    "id": "lOMBLRklitD2"
   },
   "source": [
    "# Tuning functions\n",
    "These functions will be used in the second strategy of split i.e. extending window. \n",
    "Each time the training set grows by adding additional observations, the whole following procedure is repeated :\n",
    "\n",
    "for each algorithm repeat :\n",
    "\n",
    "*   Grid search to find the best hyper parameters\n",
    "*   Train model with best hyper parameters \n",
    "*   Predict on the testing set \n",
    "*   Compute the accuracy of the model\n",
    "\n",
    "\n",
    "\n"
   ]
  },
  {
   "cell_type": "code",
   "execution_count": 36,
   "metadata": {
    "colab": {},
    "colab_type": "code",
    "id": "NZfYx7ICiw_k"
   },
   "outputs": [],
   "source": [
    "def log_tune_pred(x_train,y_train,x_test,y_test):\n",
    "  logistic = LogisticRegression()\n",
    "  parameter_logistic1 = {'tol':[0.00001, 0.01], \n",
    "                       'C':[1e-4,1e-2,0.1,1,10], \n",
    "                       'solver':('newton-cg', 'sag', 'lbfgs'),\n",
    "                      'tol' : [1e-2,1] , 'max_iter' : [100,1000,10000]}\n",
    "\n",
    "  CV_logistic1 = GridSearchCV(logistic, parameter_logistic1, cv = 5)\n",
    "  CV_logistic1.fit(x_train, y_train.astype('float'))\n",
    "  predlog1 = CV_logistic1.predict(x_test)\n",
    "  acc = accuracy_score(y_test.astype(\"float\"),predlog1)\n",
    "  return acc"
   ]
  },
  {
   "cell_type": "code",
   "execution_count": 37,
   "metadata": {
    "colab": {},
    "colab_type": "code",
    "id": "sMfAZBDmqJBY"
   },
   "outputs": [],
   "source": [
    "def rf_tune_pred(x_train,y_train,x_test,y_test):\n",
    "  rfc = RandomForestClassifier()\n",
    "  parameter_rfc1 = {'n_estimators':[10, 200], \n",
    "                   'criterion':('gini', 'entropy'),'max_depth':[1,20], \n",
    "                   'min_samples_split':[2,20], \n",
    "                   'min_samples_leaf':[1,20], \n",
    "                   'max_features':('auto','sqrt','log2'),\n",
    "                   'min_impurity_decrease':[0.0001,0.9999]}\n",
    "\n",
    "\n",
    "  CV_rfc1 = GridSearchCV(rfc, parameter_rfc1, cv = 5)\n",
    "  CV_rfc1.fit(x_train, y_train.astype('float'))\n",
    "  predrf = CV_rfc1.predict(x_test)\n",
    "  acc = accuracy_score(y_test.astype(\"float\"),predrf)\n",
    "  return acc"
   ]
  },
  {
   "cell_type": "code",
   "execution_count": 38,
   "metadata": {
    "colab": {},
    "colab_type": "code",
    "id": "0WB6onbL-_Ok"
   },
   "outputs": [],
   "source": [
    "def svm_tune_pred(x_train,y_train,x_test,y_test):\n",
    "  svm = SVC()\n",
    "  parameter_svm1 = {'kernel':('linear', 'rbf', 'poly', 'sigmoid'), \n",
    "                  'C':[0.1, 10],\n",
    "                  'gamma':[0.01,0.9]}\n",
    "\n",
    "  CV_svm1 = GridSearchCV(svm, parameter_svm1, cv = 5)\n",
    "  CV_svm1.fit(x_train, y_train.astype('float'))\n",
    "  predsvm1 = CV_svm1.predict(x_test)\n",
    "  acc = accuracy_score(y_test.astype(\"float\"),predsvm1)\n",
    "  return acc"
   ]
  },
  {
   "cell_type": "markdown",
   "metadata": {
    "colab_type": "text",
    "id": "VcRL1wOawFp-"
   },
   "source": [
    "# Splitting strategy 1 \n",
    "All records up to the split point are taken as the training dataset and all records from the split point to the end of the list of observations are taken as the test set.\n",
    "\n",
    "The first 80% of the data are taking for training the models. \n",
    "The last 20% are taking for testing the models\n",
    "\n",
    "Conclusions\n",
    "\n",
    "*   This first strategy gives good results as the basic models yield to an accuracy of about 70% on the testing set \n",
    "*   Pros : Not long to compute , takes into account all the records up to date,  useful when having large amount of data so that both training and tests sets are representative of the original problem.\n",
    " * Computational time for logeistic regression :13.42544960975647 sec\n",
    " * Computational time for randomforest : 6.770708604653676 min\n",
    " * Computational time for svm : 50.491835594177246 sec\n",
    "*   Cons : Not adapted to problems where old observations and recent ones can't be compared due to the real context of the problem  \n"
   ]
  },
  {
   "cell_type": "code",
   "execution_count": 39,
   "metadata": {
    "colab": {},
    "colab_type": "code",
    "id": "mbKA0A29wSNP"
   },
   "outputs": [],
   "source": [
    "train_size = int(len(spy) * 0.8)\n",
    "train, test = spy[0:train_size], spy[train_size:len(spy)]"
   ]
  },
  {
   "cell_type": "code",
   "execution_count": 40,
   "metadata": {
    "colab": {
     "base_uri": "https://localhost:8080/",
     "height": 52
    },
    "colab_type": "code",
    "id": "KAmMornswRxA",
    "outputId": "53af9e62-50da-4e0c-d109-af1e3e8c952f"
   },
   "outputs": [
    {
     "name": "stdout",
     "output_type": "stream",
     "text": [
      "(3780, 14)\n",
      "(945, 14)\n"
     ]
    }
   ],
   "source": [
    "print(train.shape)\n",
    "print(test.shape)"
   ]
  },
  {
   "cell_type": "code",
   "execution_count": 41,
   "metadata": {
    "colab": {},
    "colab_type": "code",
    "id": "nJKt9cQaO0To"
   },
   "outputs": [
    {
     "name": "stdout",
     "output_type": "stream",
     "text": [
      "(3780, 12)\n",
      "(3780,)\n",
      "(945, 12)\n",
      "(945,)\n"
     ]
    }
   ],
   "source": [
    "x_train=train[:,1:-1]\n",
    "y_train = train[:,13]\n",
    "x_test=test[:,1:-1]\n",
    "y_test = test[:,13]\n",
    "print(x_train.shape)\n",
    "print(y_train.shape)\n",
    "print(x_test.shape)\n",
    "print(y_test.shape)"
   ]
  },
  {
   "cell_type": "code",
   "execution_count": 42,
   "metadata": {
    "colab": {
     "base_uri": "https://localhost:8080/",
     "height": 121
    },
    "colab_type": "code",
    "id": "aIWzxJ3g-_O0",
    "outputId": "20466dff-49af-490b-ec0b-b0f0f7262764"
   },
   "outputs": [
    {
     "name": "stdout",
     "output_type": "stream",
     "text": [
      "Observations: 4725\n",
      "Training Observations: 3780\n",
      "Testing Observations: 945\n",
      "Accuracy Logistic: 0.7185185185185186\n",
      "Accuracy Random Forest: 0.7153439153439154\n",
      "Accuracy SVM: 0.7153439153439154\n"
     ]
    }
   ],
   "source": [
    " ## evaluate models\n",
    "t0_log = time.time()\n",
    "accu_log = log_tune_pred(x_train,y_train,x_test,y_test)\n",
    "t1_log = time.time()\n",
    "\n",
    "\n",
    "t0_rf = time.time()\n",
    "accu_rf = rf_tune_pred(x_train,y_train,x_test,y_test)\n",
    "t1_rf = time.time()\n",
    "\n",
    "t0_svm = time.time()\n",
    "accu_svm = svm_tune_pred(x_train,y_train,x_test,y_test)\n",
    "t1_svm = time.time()\n",
    "  \n",
    "print('Observations: %d' % (len(train) + len(test)))\n",
    "print('Training Observations: %d' % (len(train)))\n",
    "print('Testing Observations: %d' % (len(test)))\n",
    "  \n",
    "print(\"Accuracy Logistic:\", accu_log)\n",
    "print(\"Accuracy Random Forest:\",  accu_rf)\n",
    "print(\"Accuracy SVM:\",  accu_svm)"
   ]
  },
  {
   "cell_type": "code",
   "execution_count": 44,
   "metadata": {
    "colab": {
     "base_uri": "https://localhost:8080/",
     "height": 69
    },
    "colab_type": "code",
    "id": "uwKGbebnGEQ0",
    "outputId": "7d27218e-648f-4744-97e0-61dca4ffcb13"
   },
   "outputs": [
    {
     "name": "stdout",
     "output_type": "stream",
     "text": [
      "6.512304782867432 sec\n",
      "4.232347333431244 min\n",
      "27.661952018737793 sec\n"
     ]
    }
   ],
   "source": [
    "### Computation \n",
    "print((t1_log - t0_log), 'sec')\n",
    "print((t1_rf - t0_rf)/60 , \"min\")\n",
    "print((t1_svm - t0_svm), 'sec')"
   ]
  },
  {
   "cell_type": "markdown",
   "metadata": {
    "colab_type": "text",
    "id": "qJcOEqrvSAwE"
   },
   "source": [
    "# Splitting strategy 2\n",
    "\n",
    "Splitting the time series into train and test sets multiple times.\n",
    "\n",
    "As each time the training set is extended, we call this method \"extending window\"\n",
    "\n",
    "We decided to compute a grid search each time the training set is extended because we believe that adding hundreds of observations at a time can make the optimal parameters change\n",
    "\n",
    "Conclusions:\n",
    "* Pros : adapted to contexts where new data is periodically received and added to previous data (monthly, every 3 months etc.) \n",
    "* More robust robust estimate of the expected performance of the chosen method and configuration on unseen data.\n",
    "* Cons : Requires multiple models to be trained and evaluated."
   ]
  },
  {
   "cell_type": "code",
   "execution_count": 45,
   "metadata": {
    "colab": {},
    "colab_type": "code",
    "id": "kIK4bSfZVSfR"
   },
   "outputs": [],
   "source": [
    "X=spy\n",
    "splits = TimeSeriesSplit(n_splits=6)"
   ]
  },
  {
   "cell_type": "code",
   "execution_count": 46,
   "metadata": {
    "colab": {
     "base_uri": "https://localhost:8080/",
     "height": 117
    },
    "colab_type": "code",
    "id": "HLOTJrtvi6Ta",
    "outputId": "3d5d8a43-179f-406b-c33b-ecb4518f8de5"
   },
   "outputs": [
    {
     "name": "stdout",
     "output_type": "stream",
     "text": [
      "Observations: 4725\n",
      "Training Observations: 4050\n",
      "Testing Observations: 675\n",
      "Mean accuracy Logistic: 0.5738271604938271\n",
      "Mean accuracy Random Forest: 0.5592592592592592\n",
      "Mean accuracy SVM: 0.5735802469135802\n"
     ]
    }
   ],
   "source": [
    "accuracies_log = []\n",
    "accuracies_rf = []\n",
    "accuracies_svm = []\n",
    "\n",
    "T0_log = []\n",
    "T1_log = []\n",
    "\n",
    "T0_rf = []\n",
    "T1_rf = []\n",
    "\n",
    "T0_svm = []\n",
    "T1_svm = []\n",
    "\n",
    "for train_index,test_index in splits.split(X):\n",
    "  ## split data\n",
    "    train = X[train_index]\n",
    "    x_train = train[:,1:-1]\n",
    "    y_train = train[:,-1]\n",
    "  \n",
    "    test = X[test_index]\n",
    "    x_test = test[:,1:-1]\n",
    "    y_test = test[:,-1]\n",
    "    ## evaluate models\n",
    "    T0_log.append(time.time()) \n",
    "    accu_log = log_tune_pred(x_train,y_train,x_test,y_test)\n",
    "    accuracies_log.append(accu_log)\n",
    "    T1_log.append(time.time()) \n",
    "  \n",
    "    T0_rf.append(time.time()) \n",
    "    accu_rf = rf_tune_pred(x_train,y_train,x_test,y_test)\n",
    "    accuracies_rf.append(accu_rf)\n",
    "    T1_rf.append(time.time()) \n",
    "  \n",
    "    T0_svm.append(time.time()) \n",
    "    accu_svm = svm_tune_pred(x_train,y_train,x_test,y_test)\n",
    "    accuracies_svm.append(accu_svm)\n",
    "    T1_svm.append(time.time()) \n",
    "    \n",
    "print('Observations: %d' % (len(train) + len(test)))\n",
    "print('Training Observations: %d' % (len(train)))\n",
    "print('Testing Observations: %d' % (len(test)))\n",
    "  \n",
    "#print(\"Accuracy for Logistic Regression second splitting strategy: \",accuracies)\n",
    "print(\"Mean accuracy Logistic:\",  np.mean(accuracies_log))\n",
    "print(\"Mean accuracy Random Forest:\",  np.mean(accuracies_rf))\n",
    "print(\"Mean accuracy SVM:\",  np.mean(accuracies_svm))"
   ]
  },
  {
   "cell_type": "code",
   "execution_count": 13,
   "metadata": {
    "colab": {
     "base_uri": "https://localhost:8080/",
     "height": 83
    },
    "colab_type": "code",
    "id": "07LgLrcZRhhQ",
    "outputId": "a3e8c6d3-971a-4b6c-8e1f-bf5c0b4bd36d"
   },
   "outputs": [
    {
     "data": {
      "text/plain": [
       "[0.3940740740740741,\n",
       " 0.6177777777777778,\n",
       " 0.42518518518518517,\n",
       " 0.5718518518518518,\n",
       " 0.6474074074074074,\n",
       " 0.7674074074074074]"
      ]
     },
     "execution_count": 13,
     "metadata": {},
     "output_type": "execute_result"
    }
   ],
   "source": [
    "accuracies_log"
   ]
  },
  {
   "cell_type": "code",
   "execution_count": 14,
   "metadata": {
    "colab": {
     "base_uri": "https://localhost:8080/",
     "height": 83
    },
    "colab_type": "code",
    "id": "_SGLyVd5RmCi",
    "outputId": "4dd2f399-d578-4de1-ecac-42a7b827afd8"
   },
   "outputs": [
    {
     "data": {
      "text/plain": [
       "[0.4533333333333333,\n",
       " 0.6118518518518519,\n",
       " 0.38074074074074077,\n",
       " 0.5851851851851851,\n",
       " 0.642962962962963,\n",
       " 0.7674074074074074]"
      ]
     },
     "execution_count": 14,
     "metadata": {},
     "output_type": "execute_result"
    }
   ],
   "source": [
    "accuracies_rf"
   ]
  },
  {
   "cell_type": "code",
   "execution_count": 15,
   "metadata": {
    "colab": {
     "base_uri": "https://localhost:8080/",
     "height": 83
    },
    "colab_type": "code",
    "id": "hkfifrhgRoIK",
    "outputId": "dab57d05-36fd-486b-9712-aceb5d20b45c"
   },
   "outputs": [
    {
     "data": {
      "text/plain": [
       "[0.43555555555555553,\n",
       " 0.6148148148148148,\n",
       " 0.39111111111111113,\n",
       " 0.5896296296296296,\n",
       " 0.642962962962963,\n",
       " 0.7674074074074074]"
      ]
     },
     "execution_count": 15,
     "metadata": {},
     "output_type": "execute_result"
    }
   ],
   "source": [
    "accuracies_svm"
   ]
  },
  {
   "cell_type": "code",
   "execution_count": 67,
   "metadata": {
    "colab": {},
    "colab_type": "code",
    "id": "g_wjk-xtLTwH"
   },
   "outputs": [],
   "source": [
    "# computation time \n",
    "time_log = np.array(T1_log) - np.array(T0_log)\n",
    "time_rf = np.array(T1_rf) - np.array(T0_rf)\n",
    "time_svm = np.array(T1_svm) - np.array(T0_svm)\n",
    "time_nn = np.array(T1_nn) - np.array(T0_nn)"
   ]
  },
  {
   "cell_type": "code",
   "execution_count": 69,
   "metadata": {
    "colab": {
     "base_uri": "https://localhost:8080/",
     "height": 517
    },
    "colab_type": "code",
    "id": "r9lpgzU9Kp7r",
    "outputId": "a2af8a36-2c72-4e6a-bd06-b26c02bd8982"
   },
   "outputs": [
    {
     "data": {
      "text/plain": [
       "Text(0.5,1,'Evolution of computational time')"
      ]
     },
     "execution_count": 69,
     "metadata": {},
     "output_type": "execute_result"
    },
    {
     "data": {
      "image/png": "[encoded data removed]",
      "text/plain": [
       "<Figure size 720x576 with 1 Axes>"
      ]
     },
     "metadata": {},
     "output_type": "display_data"
    }
   ],
   "source": [
    "labels = [\"split 1\",\"split 2\",\"split 3\",'split 4', 'split 5', 'split 6']  \n",
    "plt.figure(figsize = (10,8))\n",
    "plot_timelog, = plt.plot(labels,time_log,label=\"logistic regression\")\n",
    "plot_timerf, = plt.plot(labels,time_rf, label = \"random forest\")\n",
    "plot_timesvm, = plt.plot(labels,time_svm, label = \"svm\")\n",
    "plot_timenn, = plt.plot(labels, time_nn, label = \"neural network\")\n",
    "plt.legend(handles=[plot_timelog,plot_timerf,plot_timesvm, plot_timenn],loc=1)\n",
    "plt.ylabel('time (in sec)',fontsize = 14)\n",
    "plt.title(\"Evolution of computational time\",fontsize = 14)"
   ]
  },
  {
   "cell_type": "code",
   "execution_count": 71,
   "metadata": {
    "colab": {
     "base_uri": "https://localhost:8080/",
     "height": 514
    },
    "colab_type": "code",
    "id": "kJ5wczb2fFbx",
    "outputId": "7759804b-e9d0-4aed-8d19-5b5cba9da8fc"
   },
   "outputs": [
    {
     "name": "stdout",
     "output_type": "stream",
     "text": [
      "<class 'matplotlib.lines.Line2D'>\n",
      "<class 'matplotlib.lines.Line2D'>\n"
     ]
    },
    {
     "data": {
      "image/png": "[encoded data removed]",
      "text/plain": [
       "<Figure size 720x576 with 1 Axes>"
      ]
     },
     "metadata": {},
     "output_type": "display_data"
    }
   ],
   "source": [
    "labels = [\"split 1\",\"split 2\",\"split 3\",'split 4', 'split 5', 'split 6']  \n",
    "plt.figure(figsize = (10,8))\n",
    "plot_log, = plt.plot(labels,accuracies_log,label=\"logistic regression\")\n",
    "plot_rf, = plt.plot(labels,accuracies_rf, label = \"random forest\")\n",
    "plot_svm, = plt.plot(labels,accuracies_svm, label = \"svm\")\n",
    "plot_nn, = plt.plot(labels, accuracies_nn, label = \"neural network\")\n",
    "plt.legend(handles=[plot_log,plot_rf,plot_svm,plot_nn],loc=1)\n",
    "plt.title(\"Evolution of accuracy\")\n",
    "print(type(plot_nn))\n",
    "print(type(plot_svm))"
   ]
  },
  {
   "cell_type": "markdown",
   "metadata": {
    "colab_type": "text",
    "id": "HEWikKUi0Qyg"
   },
   "source": [
    "# Splitting strategy 3\n",
    "\n",
    "Sliding window\n",
    "\n",
    "Motivation : very old data not important to predict the yields of a day \n",
    "\n",
    "Solution : Only take into account the record of last 3 months (60 working days) and predict on one single example\n",
    "\n",
    "As the size of the training set is always the same (60), and as the nature of the variables and the observations are consistent through time, we decided to dedicate roughly the first 25% of the data (1000 observations) to the task of finding the optimal hyper parameters that will then be used to train the data several times on training sets defined with a sliding window of the same width (60)\n",
    "\n",
    "Pros : realistic, robust\n",
    "Cons : computation time\n",
    "\n",
    "As a loss function, we use sum(indicatrice(prediction != true value))"
   ]
  },
  {
   "cell_type": "markdown",
   "metadata": {
    "colab_type": "text",
    "id": "Ca8ovaLiP0Bk"
   },
   "source": [
    "### Grid search"
   ]
  },
  {
   "cell_type": "code",
   "execution_count": null,
   "metadata": {
    "colab": {
     "base_uri": "https://localhost:8080/",
     "height": 83
    },
    "colab_type": "code",
    "id": "ygXdyZftM5iu",
    "outputId": "a1aef574-ea9f-48bf-bd3f-b9268e5865cb"
   },
   "outputs": [],
   "source": [
    "## take off the first 1000 rows and do a grid search on it\n",
    "data_grid = spy[:1000]\n",
    "data_grid.shape\n",
    "train_size = int(len(data_grid) * 0.7)\n",
    "train, test = data_grid[0:train_size], data_grid[train_size:len(spy)]\n",
    "\n",
    "x_train_grid=train[:,1:-1]\n",
    "print(x_train_grid.shape)\n",
    "y_train_grid = train[:,13]\n",
    "print(y_train_grid.shape)\n",
    "\n",
    "x_test_grid=test[:,1:-1]\n",
    "print(x_test_grid.shape)\n",
    "y_test_grid = test[:,13]\n",
    "print(y_test_grid.shape)"
   ]
  },
  {
   "cell_type": "code",
   "execution_count": 20,
   "metadata": {
    "colab": {
     "base_uri": "https://localhost:8080/",
     "height": 50
    },
    "colab_type": "code",
    "id": "lIQmTHa5P5sY",
    "outputId": "06f48aed-0345-4868-c537-88733867cc6d"
   },
   "outputs": [
    {
     "name": "stdout",
     "output_type": "stream",
     "text": [
      "Best parameters for Logistic regression:  {'C': 10, 'max_iter': 100, 'solver': 'newton-cg', 'tol': 0.01}\n"
     ]
    },
    {
     "data": {
      "text/plain": [
       "0.36"
      ]
     },
     "execution_count": 20,
     "metadata": {},
     "output_type": "execute_result"
    }
   ],
   "source": [
    "logistic = LogisticRegression()\n",
    "parameter_logistic1 = {'tol':[0.00001, 0.01], \n",
    "                       'C':[1e-4,1e-2,0.1,1,10], \n",
    "                       'solver':('newton-cg', 'sag', 'lbfgs'),\n",
    "                      'tol' : [1e-2,1] , 'max_iter' : [100,1000,10000]}\n",
    "\n",
    "CV_logistic1 = GridSearchCV(logistic, parameter_logistic1, cv = 2)\n",
    "CV_logistic1.fit(x_train_grid, y_train_grid.astype('float'))\n",
    "predlog1 = CV_logistic1.predict(x_test_grid)\n",
    "print(\"Best parameters for Logistic regression: \",CV_logistic1.best_params_)\n",
    "acc = accuracy_score(y_test_grid.astype(\"float\"),predlog1)\n",
    "acc"
   ]
  },
  {
   "cell_type": "code",
   "execution_count": 21,
   "metadata": {
    "colab": {
     "base_uri": "https://localhost:8080/",
     "height": 70
    },
    "colab_type": "code",
    "id": "vneUK2xoP7uP",
    "outputId": "6ee803cb-c665-4260-c0ec-b673870f2243"
   },
   "outputs": [
    {
     "name": "stdout",
     "output_type": "stream",
     "text": [
      "Best parameters for Random forest 1:  {'criterion': 'gini', 'max_depth': 1, 'max_features': 'auto', 'min_impurity_decrease': 0.0001, 'min_samples_leaf': 20, 'min_samples_split': 2, 'n_estimators': 10}\n"
     ]
    },
    {
     "data": {
      "text/plain": [
       "0.29333333333333333"
      ]
     },
     "execution_count": 21,
     "metadata": {},
     "output_type": "execute_result"
    }
   ],
   "source": [
    "rfc = RandomForestClassifier()\n",
    "\n",
    "parameter_rfc1 = {'n_estimators':[10, 200], \n",
    "                   'criterion':('gini', 'entropy'),'max_depth':[1,20], \n",
    "                   'min_samples_split':[2,20], \n",
    "                   'min_samples_leaf':[1,20], \n",
    "                   'max_features':('auto','sqrt','log2'),\n",
    "                   'min_impurity_decrease':[0.0001,0.9999]}\n",
    "\n",
    "\n",
    "CV_rfc1 = GridSearchCV(rfc, parameter_rfc1, cv = 2)\n",
    "CV_rfc1.fit(x_train_grid, y_train_grid.astype('float'))\n",
    "predrfc1 = CV_rfc1.predict(x_test_grid)\n",
    "print(\"Best parameters for Random forest 1: \",CV_rfc1.best_params_)\n",
    "acc = accuracy_score(y_test_grid.astype(\"float\"),predrfc1)\n",
    "acc"
   ]
  },
  {
   "cell_type": "code",
   "execution_count": 22,
   "metadata": {
    "colab": {},
    "colab_type": "code",
    "id": "Y74x1t1vP_an"
   },
   "outputs": [
    {
     "name": "stdout",
     "output_type": "stream",
     "text": [
      "Best parameters for SVM1:  {'C': 10, 'gamma': 0.9, 'kernel': 'rbf'}\n"
     ]
    },
    {
     "data": {
      "text/plain": [
       "0.26"
      ]
     },
     "execution_count": 22,
     "metadata": {},
     "output_type": "execute_result"
    }
   ],
   "source": [
    "svm = SVC()\n",
    "\n",
    "parameter_svm1 = {'kernel':('linear', 'rbf', 'poly', 'sigmoid'), \n",
    "                  'C':[0.1, 10],\n",
    "                  'gamma':[0.01,0.9]}\n",
    "\n",
    "CV_svm1 = GridSearchCV(svm, parameter_svm1, cv = 2)\n",
    "CV_svm1.fit(x_train_grid, y_train_grid.astype('float'))\n",
    "predsvm1 = CV_svm1.predict(x_test_grid)\n",
    "\n",
    "print(\"Best parameters for SVM1: \", CV_svm1.best_params_)\n",
    "acc = accuracy_score(y_test_grid.astype(\"float\"),predsvm1)\n",
    "acc"
   ]
  },
  {
   "cell_type": "markdown",
   "metadata": {
    "colab_type": "text",
    "id": "dihjiwUIQB0A"
   },
   "source": [
    "### Sliding window function"
   ]
  },
  {
   "cell_type": "code",
   "execution_count": 23,
   "metadata": {
    "colab": {},
    "colab_type": "code",
    "id": "2aAlwTHkQCuY"
   },
   "outputs": [],
   "source": [
    "#Reshape your data either using array.reshape(-1, 1) if your data has a single feature or array.reshape(1, -1) if it contains a single sample.\n",
    "def sliding_win (data,length_win=60):\n",
    "  contplus_log = 0\n",
    "  contplus_rf = 0\n",
    "  contplus_svm = 0\n",
    "  start = length_win\n",
    "  \n",
    "  while (start<len(data)-1): ## start+1= point to be predicted\n",
    "    #print(start+1)\n",
    "    sub_data = data[start-length_win:start]\n",
    "  \n",
    "    x_train=sub_data[:,1:-1]\n",
    "    y_train = sub_data[:,13]\n",
    "    y_train = y_train.astype('float')\n",
    "    x_test=data[start+1,1:-1].reshape(1,-1)\n",
    "    y_test = data[start+1,13]\n",
    "    \n",
    "  \n",
    "    ## test models \n",
    "    logistic = LogisticRegression(C=10, max_iter=100, solver= 'sag', tol = 0.01)\n",
    "    logistic.fit(x_train,y_train)\n",
    "    logistic.predict(x_test)\n",
    "    \n",
    "    randomforest = RandomForestClassifier(criterion = 'gini',\n",
    "                              max_depth = 5,\n",
    "                              max_features = 'log2',\n",
    "                              min_impurity_decrease = 0.0001,\n",
    "                              min_samples_leaf = 20,\n",
    "                              min_samples_split = 2,\n",
    "                              n_estimators = 10)\n",
    "    randomforest.fit(x_train,y_train)\n",
    "    randomforest.predict(x_test)\n",
    "    \n",
    "    svm= SVC(C = 10, kernel = 'rbf', gamma = 0.9, decision_function_shape = 'ovo')\n",
    "    svm.fit(x_train,y_train)\n",
    "    svm.predict(x_test)\n",
    "      \n",
    "    if (logistic.predict(x_test)==y_test):\n",
    "      contplus_log = contplus_log + 1\n",
    "    if (randomforest.predict(x_test)==y_test):\n",
    "      contplus_rf = contplus_rf + 1\n",
    "    if (svm.predict(x_test)==y_test):\n",
    "      contplus_svm = contplus_rf + 1\n",
    "    start = start+1\n",
    "  print(contplus_log/(4725-1000-60))\n",
    "  print(contplus_rf/(4725-1000-60))\n",
    "  print(contplus_svm/(4725-1000-60))\n",
    "  return res\n",
    "  "
   ]
  },
  {
   "cell_type": "code",
   "execution_count": 7,
   "metadata": {
    "colab": {},
    "colab_type": "code",
    "id": "uyJioAgMQGoa",
    "scrolled": true
   },
   "outputs": [
    {
     "ename": "NameError",
     "evalue": "name 'sliding_win' is not defined",
     "output_type": "error",
     "traceback": [
      "\u001b[0;31m---------------------------------------------------------------------------\u001b[0m",
      "\u001b[0;31mNameError\u001b[0m                                 Traceback (most recent call last)",
      "\u001b[0;32m<ipython-input-7-133691e0270d>\u001b[0m in \u001b[0;36m<module>\u001b[0;34m()\u001b[0m\n\u001b[0;32m----> 1\u001b[0;31m \u001b[0msliding_win\u001b[0m\u001b[0;34m(\u001b[0m\u001b[0mspy\u001b[0m\u001b[0;34m[\u001b[0m\u001b[0;36m1000\u001b[0m\u001b[0;34m:\u001b[0m\u001b[0;34m]\u001b[0m\u001b[0;34m)\u001b[0m\u001b[0;34m\u001b[0m\u001b[0m\n\u001b[0m",
      "\u001b[0;31mNameError\u001b[0m: name 'sliding_win' is not defined"
     ]
    }
   ],
   "source": [
    "sliding_win(spy[1000:])"
   ]
  },
  {
   "cell_type": "markdown",
   "metadata": {
    "colab_type": "text",
    "id": "oLNjSlMrutEP"
   },
   "source": [
    "# NEURAL NETWORK"
   ]
  },
  {
   "cell_type": "code",
   "execution_count": 88,
   "metadata": {
    "colab": {},
    "colab_type": "code",
    "id": "xckIXHMWutER",
    "scrolled": true
   },
   "outputs": [
    {
     "name": "stdout",
     "output_type": "stream",
     "text": [
      "Data shape :\n",
      "(4725, 14)\n",
      "xtrain1 shape :\n",
      "(3780, 12)\n",
      "y_train1 shape :\n",
      "(3780,)\n",
      "xtest1 shape :\n",
      "(945, 12)\n",
      "y_test1 shape :\n",
      "(945,)\n"
     ]
    },
    {
     "name": "stderr",
     "output_type": "stream",
     "text": [
      "/anaconda3/lib/python3.6/site-packages/sklearn/utils/validation.py:475: DataConversionWarning: Data with input dtype object was converted to float64 by StandardScaler.\n",
      "  warnings.warn(msg, DataConversionWarning)\n"
     ]
    },
    {
     "name": "stdout",
     "output_type": "stream",
     "text": [
      "[1 0 0 ... 0 0 0]\n",
      "Accuracy on the training set 1: 0.588\n",
      "[ 1  0  0  0  0  0  0  0  0  0  0  0  0  0  0  0  0  0  0  0  0  0  0  0\n",
      "  0  0  0  0  0  0  0  0  0  0  0  0  0  0  0  0  0  0  0  0  0  0  0  0\n",
      "  0  0  0  0  0  0  0  0  0  0  0  0  0  0  0  0  0  0  0  0  0  0  0  0\n",
      "  0  0  0  0  0  0  0  0  0  0  0  0  0  0  0  0  0  0  0  0  0  0  0  0\n",
      "  0  0  0  0  0  0  0  0  0  0  0  0  0  0  0  0  0  0  0  0  0  0  0  0\n",
      "  0  0  0  0  0  0  0  0  0 -1  0  1  1  0  0  1  1  0  0 -1  0  1  0  0\n",
      "  0  0  0  0  0  0  1  0  0  0  0  0  0  0  0  0  0  0  0  0  0  0  0  0\n",
      "  0  0  0  0  0  0  0  0  0  0  0  0  0  0  0  0  0  0  0  0  0  0  0  0\n",
      "  0  0  0  0  0  0  0  0  0  0  0  0  0  0  0  0  0  0  0  0 -1  1  0  0\n",
      "  0  0  0  0  0  0  0  0  0 -1  0  0  1  1  1  1  1  1  0  1  1  1  1  0\n",
      "  0  0  0  0  0  1  0  1  1 -1  0  0  0  0  0  0  0  0  0  0  0  0  0  0\n",
      "  0  0  0  0  0  0  0  0  0  0  0  0  0  0  0  0  0  0  0  0  0  0  0  0\n",
      "  0  0  0  0  0  0  0  0  0  0  0  0  0  0  0  0  0  0  0  0  0  0  0  0\n",
      "  0  0  0  0  0  0  0  0  0  0  0  0  0  0  0  0  0  0  0  0  0  0  0  0\n",
      "  0  0  0  0  0  1  0  0  0  0  0  0  0  0  0  0  0  0  0  0  0  0  0  0\n",
      "  0  0  0  0  0  0  0  0  0  0  0  0  0  0  0  0  0  0  0  0  0  0  0  0\n",
      "  0  0  0  0  0  0  0  0  0  0  0  0  0  0  0  0  0  1  0  0  0  0  0  0\n",
      "  0  0  0  0  0  0  0  0  0  0  0  0  0  0  0  0  0  0  0  0  0  0  0  0\n",
      "  0  0  0  0  0  0  0  0  0  0  0  0  0  0  0  0  0  0  0  0  0  0  0  0\n",
      "  0  0  0  0  0  0  0  0  0  0  0  0  0  0  0  0  1  0  0  0  0  0  0  0\n",
      "  0  0  0  0  0  0  0  0  0  0  0  0  0  0  0  0  0  0  0  0  0  0  0  0\n",
      "  0  0  0  0  0  0  0  0  0  0  0  0  0  0  0  0  0  0  0  0  0  0  1  0\n",
      "  0  0  0  0  0  0  0  0  0  0  0  0  0  0  0  0  0  0  0  0  0  0  0  0\n",
      "  0  0  0  0  0  0  0  0  0  0  0  0  0  0  0  0  0  0  0  0  0  0  0  0\n",
      "  0  0  0  0  0  0  0  0  0  0  0  0  0  0  0  0  0  0  0  0  0  0  0  0\n",
      "  0  0  0  0  0  0  0  0  0  0  0  0  0  0  0  0  0  0  0  0  0  0  0  0\n",
      "  0  0  0  0  0  0  0  0  0  0  0  0  0  0  0  0  0  0  0  0  0  0  0  0\n",
      "  0  0  0  0  0  0  0  0  0  0  0  0  0  0  0  0  0  0  0  0  0  0  0  0\n",
      "  0  0  0  0  0  0  0  0  0  0  0  0  0  0  0  0  0  0  0  0  0  0  0  0\n",
      "  0  0  0  0  0  0  0  0  0  0  0  0  0  0  0  0  0  0  0  0  0  0  0  0\n",
      "  0  0  0  0  0  0  0  0  0  0  0  0  0  0  0  0  0  0  0  0  0  0  0  0\n",
      "  0  0  0  0  1  0  0  1  0  0  0  0  0  0  0  0  0  0  0  0  0  1  0  0\n",
      "  0  0  0  0  0  0  0  0  0  0  0  0  1  0  0  0  0  0  0  0  0  0  0  0\n",
      "  0  0  0  0  0  0  0  0  0  0  0  0  0  0  0  0  0  0  0  0  0  0  0  0\n",
      "  0  0  0  0  0  0  0  0  0  0  0  0  0  0  0  0  0  0  0  0  0  0  0  0\n",
      "  0  0  0  0  0  0  0  0  0  0  0  0  0  0  0  0  0  0  0  0  0  0  0  0\n",
      "  0  0  0  0  0  0  0  0  0  0  0  0  0  0  0  0  0  0  0  0  0  0  0  0\n",
      "  0  0  0  0  0  0  0  0  0  0  0  0  0  0  0  0  0  0  0  0  0  0  0  0\n",
      "  0  0  0  0  0  0  0  0  0  0  0  1  0  1  0  0  0  0  0 -1  0  1  1  0\n",
      "  1  0  0  0  0  0  0  0  0]\n",
      "Accuracy on the test set 1: 0.713\n",
      "[[  0 120   6]\n",
      " [  2 660  14]\n",
      " [  4 125  14]]\n",
      "             precision    recall  f1-score   support\n",
      "\n",
      "         -1       0.00      0.00      0.00       126\n",
      "          0       0.73      0.98      0.83       676\n",
      "          1       0.41      0.10      0.16       143\n",
      "\n",
      "avg / total       0.58      0.71      0.62       945\n",
      "\n",
      "0.0006747245788574219 sec\n"
     ]
    }
   ],
   "source": [
    "from sklearn.neural_network import MLPClassifier\n",
    "from sklearn.metrics import classification_report, confusion_matrix \n",
    "from sklearn.preprocessing import StandardScaler\n",
    "\n",
    "data_nn = spy\n",
    "print('Data shape :')\n",
    "print(data_nn.shape)\n",
    "\n",
    "# First strategy\n",
    "\n",
    "train_size = int(len(data_nn) * 0.8)\n",
    "train, test = data_nn[0:train_size], data_nn[train_size:len(spy)]\n",
    "\n",
    "x_train1 = train[:,1:-1]\n",
    "print('xtrain1 shape :')\n",
    "print(x_train1.shape)\n",
    "y_train1 = train[:,13]\n",
    "y_train1 = y_train1.astype('int')\n",
    "print('y_train1 shape :')\n",
    "print(y_train1.shape)\n",
    "\n",
    "x_test1 = test[:,1:-1]\n",
    "print('xtest1 shape :')\n",
    "print(x_test1.shape)\n",
    "y_test1 = test[:,13]\n",
    "print('y_test1 shape :')\n",
    "y_test1 = y_test1.astype('int')\n",
    "print(y_test1.shape)\n",
    "\n",
    "# Standardization\n",
    "scaler = StandardScaler()  \n",
    "scaler.fit(x_train1)\n",
    "x_train1 = scaler.transform(x_train1)  \n",
    "x_test1 = scaler.transform(x_test1) \n",
    "\n",
    "NN1 = MLPClassifier(hidden_layer_sizes= (100),random_state=1,activation = 'relu',\n",
    "                 solver = 'adam', max_iter= 1000)    \n",
    "NN1 = NN1.fit(x_train1, y_train1)\n",
    "NN1_score_train1 = NN1.score(x_train1, y_train1)\n",
    "pred_train1 = NN1.predict(x_train1)\n",
    "print(pred_train1)\n",
    "print('Accuracy on the training set 1: {:.3f}'.format(NN1_score_train1))\n",
    "NN1_score_test1 = NN1.score(x_test1, y_test1)\n",
    "t0_nn = time.time()\n",
    "pred_test1 = NN1.predict(x_test1)\n",
    "t1_nn = time.time()\n",
    "print(pred_test1)\n",
    "print('Accuracy on the test set 1: {:.3f}'.format(NN1_score_test1))\n",
    "print(confusion_matrix(y_test1,pred_test1))  \n",
    "print(classification_report(y_test1,pred_test1))  \n",
    "print(t1_nn-t0_nn, \"sec\")\n",
    "\n",
    "\n",
    "# Parameters tested for the hidden layers\n",
    "#(15, 10,10, 15, 20, 10) 71.3%\n",
    "# (15, 20, 20) 71.0%\n",
    "# (100, 100, 100) 47.2%\n",
    "# (1000) 68.5%\n",
    "# (2000) 70.5%\n",
    "# (3000) 69.8%\n",
    "# (4000) 69.6%\n",
    "# (5000) 70.5%\n",
    "# (1000, 1000) 58.2%   time execution is too long for very poor benefit \n",
    "# (1000,1000,1000)  57.5%   same\n",
    "# (300) 71.0%\n",
    "# (100) 71.3%\n",
    "\n",
    "\n"
   ]
  },
  {
   "cell_type": "code",
   "execution_count": 66,
   "metadata": {},
   "outputs": [
    {
     "name": "stderr",
     "output_type": "stream",
     "text": [
      "/anaconda3/lib/python3.6/site-packages/sklearn/utils/validation.py:475: DataConversionWarning: Data with input dtype object was converted to float64 by StandardScaler.\n",
      "  warnings.warn(msg, DataConversionWarning)\n"
     ]
    },
    {
     "name": "stdout",
     "output_type": "stream",
     "text": [
      "Observations: 4725\n",
      "Training Observations: 4050\n",
      "Testing Observations: 675\n",
      "Mean accuracy Neural Network : 0.5212345679012346\n"
     ]
    }
   ],
   "source": [
    "# Second strategy\n",
    "\n",
    "splits = TimeSeriesSplit(n_splits=6)\n",
    "accuracies_nn = []\n",
    "T0_nn = []\n",
    "T1_nn  = []\n",
    "for train_index,test_index in splits.split(data_nn):\n",
    "    ## split data\n",
    "    train = data_nn[train_index]\n",
    "    x_train2 = train[:,1:-1]\n",
    "    y_train2 = train[:,-1]\n",
    "    y_train2 = y_train2.astype('int')\n",
    "    test = data_nn[test_index]\n",
    "    x_test2 = test[:,1:-1]\n",
    "    y_test2 = test[:,-1]\n",
    "    y_test2 = y_test2.astype('int')\n",
    "    ## evaluate models\n",
    "    scaler = StandardScaler()  \n",
    "    scaler.fit(x_train2)\n",
    "    x_train2 = scaler.transform(x_train2)  \n",
    "    x_test2 = scaler.transform(x_test2) \n",
    "    NN2 = MLPClassifier(hidden_layer_sizes= (100) ,random_state=1, activation = 'relu',\n",
    "                 solver = 'adam', max_iter= 1000) \n",
    "    \n",
    "    NN2 = NN2.fit(x_train2, y_train2)\n",
    "    NN2_score_train2 = NN2.score(x_train2, y_train2)\n",
    "    pred_train2 = NN2.predict(x_train2)\n",
    "    NN2_score_test2 = NN2.score(x_test2, y_test2)\n",
    "    T0_nn.append(time.time()) \n",
    "    pred_test2 = NN2.predict(x_test2)\n",
    "    T1_nn.append(time.time())\n",
    "    accuracies_nn.append(NN2_score_test2)\n",
    "\n",
    "print('Observations: %d' % (len(train) + len(test)))\n",
    "print('Training Observations: %d' % (len(train)))\n",
    "print('Testing Observations: %d' % (len(test)))\n",
    "print(\"Mean accuracy Neural Network :\",  np.mean(accuracies_nn))\n",
    " \n",
    "\n",
    "\n",
    "# Third strategy\n",
    "# The gridsearch takes too much time, so we surrend this strategy"
   ]
  },
  {
   "cell_type": "code",
   "execution_count": 62,
   "metadata": {},
   "outputs": [
    {
     "data": {
      "text/plain": [
       "[0.2651851851851852,\n",
       " 0.4740740740740741,\n",
       " 0.44296296296296295,\n",
       " 0.5511111111111111,\n",
       " 0.6325925925925926,\n",
       " 0.7614814814814815]"
      ]
     },
     "execution_count": 62,
     "metadata": {},
     "output_type": "execute_result"
    }
   ],
   "source": [
    "accuracies_nn"
   ]
  },
  {
   "cell_type": "code",
   "execution_count": null,
   "metadata": {},
   "outputs": [],
   "source": []
  },
  {
   "cell_type": "code",
   "execution_count": null,
   "metadata": {
    "colab": {},
    "colab_type": "code",
    "id": "HN3pKGVxutEZ"
   },
   "outputs": [],
   "source": []
  }
 ],
 "metadata": {
  "colab": {
   "collapsed_sections": [
    "JjuP_xUDutCu",
    "lOMBLRklitD2",
    "Ca8ovaLiP0Bk",
    "dihjiwUIQB0A",
    "oLNjSlMrutEP"
   ],
   "name": "TRADING_v4_Selma.ipynb",
   "provenance": [],
   "version": "0.3.2"
  },
  "kernelspec": {
   "display_name": "Python 3",
   "language": "python",
   "name": "python3"
  },
  "language_info": {
   "codemirror_mode": {
    "name": "ipython",
    "version": 3
   },
   "file_extension": ".py",
   "mimetype": "text/x-python",
   "name": "python",
   "nbconvert_exporter": "python",
   "pygments_lexer": "ipython3",
   "version": "3.6.8"
  }
 },
 "nbformat": 4,
 "nbformat_minor": 1
}
