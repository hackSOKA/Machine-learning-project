{
 "cells": [
  {
   "cell_type": "markdown",
   "metadata": {},
   "source": [
    "# BANKING SET : BANK TELEMARKETING "
   ]
  },
  {
   "cell_type": "markdown",
   "metadata": {},
   "source": [
    "# On procède aux meme opérations que le 1er algorithme, sauf que pour tous les features de type objet ( ie qui sont des classes ) on les transforme en one hot "
   ]
  },
  {
   "cell_type": "code",
   "execution_count": 1,
   "metadata": {},
   "outputs": [
    {
     "name": "stderr",
     "output_type": "stream",
     "text": [
      "/Users/cheikh/anaconda3/lib/python3.6/site-packages/sklearn/cross_validation.py:41: DeprecationWarning: This module was deprecated in version 0.18 in favor of the model_selection module into which all the refactored classes and functions are moved. Also note that the interface of the new CV iterators are different from that of this module. This module will be removed in 0.20.\n",
      "  \"This module will be removed in 0.20.\", DeprecationWarning)\n",
      "/Users/cheikh/anaconda3/lib/python3.6/site-packages/sklearn/ensemble/weight_boosting.py:29: DeprecationWarning: numpy.core.umath_tests is an internal NumPy module and should not be imported. It will be removed in a future NumPy release.\n",
      "  from numpy.core.umath_tests import inner1d\n",
      "/Users/cheikh/anaconda3/lib/python3.6/site-packages/h5py/__init__.py:34: FutureWarning: Conversion of the second argument of issubdtype from `float` to `np.floating` is deprecated. In future, it will be treated as `np.float64 == np.dtype(float).type`.\n",
      "  from ._conv import register_converters as _register_converters\n",
      "Using TensorFlow backend.\n"
     ]
    }
   ],
   "source": [
    "import numpy as np \n",
    "import pandas as pd \n",
    "from sklearn.linear_model import LogisticRegression\n",
    "\n",
    "\n",
    "import matplotlib.pyplot as plt\n",
    "\n",
    "from sklearn import cross_validation\n",
    "from sklearn.svm import SVC\n",
    "from sklearn.svm import LinearSVC\n",
    "from sklearn.ensemble import RandomForestClassifier\n",
    "from sklearn.metrics import accuracy_score\n",
    "from sklearn.model_selection import GridSearchCV\n",
    "\n",
    "\n",
    "from keras.utils import to_categorical\n",
    "from sklearn.cross_validation import train_test_split"
   ]
  },
  {
   "cell_type": "markdown",
   "metadata": {},
   "source": [
    "# Importing Data "
   ]
  },
  {
   "cell_type": "code",
   "execution_count": 2,
   "metadata": {},
   "outputs": [
    {
     "data": {
      "text/plain": [
       "(45211, 17)"
      ]
     },
     "execution_count": 2,
     "metadata": {},
     "output_type": "execute_result"
    }
   ],
   "source": [
    "bank = pd.read_csv('bank-full.csv',delimiter=';',header=0)\n",
    "bank.shape"
   ]
  },
  {
   "cell_type": "code",
   "execution_count": 3,
   "metadata": {
    "collapsed": true
   },
   "outputs": [],
   "source": [
    "# On tranforme les output par 1 pour yes et 0 pour non \n",
    "bank.y.replace(('yes','no'),(1,0), inplace=True)"
   ]
  },
  {
   "cell_type": "code",
   "execution_count": 4,
   "metadata": {},
   "outputs": [
    {
     "data": {
      "text/plain": [
       "(45211, 51)"
      ]
     },
     "execution_count": 4,
     "metadata": {},
     "output_type": "execute_result"
    }
   ],
   "source": [
    "# Ici on procède à l'encoding des features qui sont de type catégories en appliquant la fonction get.dummies. \n",
    "# On peut l'appliquer directement sur tous les features, car elle va considérer \n",
    "# que les features de type categories et ignoner ceux de type numerique\n",
    "t = pd.get_dummies(bank.iloc[:,:-1])\n",
    "t.shape"
   ]
  },
  {
   "cell_type": "markdown",
   "metadata": {},
   "source": [
    "# Print The the type of the features after hot encoding them "
   ]
  },
  {
   "cell_type": "code",
   "execution_count": 5,
   "metadata": {},
   "outputs": [
    {
     "name": "stdout",
     "output_type": "stream",
     "text": [
      "Data Types: age                    int64\n",
      "balance                int64\n",
      "day                    int64\n",
      "duration               int64\n",
      "campaign               int64\n",
      "pdays                  int64\n",
      "previous               int64\n",
      "job_admin.             uint8\n",
      "job_blue-collar        uint8\n",
      "job_entrepreneur       uint8\n",
      "job_housemaid          uint8\n",
      "job_management         uint8\n",
      "job_retired            uint8\n",
      "job_self-employed      uint8\n",
      "job_services           uint8\n",
      "job_student            uint8\n",
      "job_technician         uint8\n",
      "job_unemployed         uint8\n",
      "job_unknown            uint8\n",
      "marital_divorced       uint8\n",
      "marital_married        uint8\n",
      "marital_single         uint8\n",
      "education_primary      uint8\n",
      "education_secondary    uint8\n",
      "education_tertiary     uint8\n",
      "education_unknown      uint8\n",
      "default_no             uint8\n",
      "default_yes            uint8\n",
      "housing_no             uint8\n",
      "housing_yes            uint8\n",
      "loan_no                uint8\n",
      "loan_yes               uint8\n",
      "contact_cellular       uint8\n",
      "contact_telephone      uint8\n",
      "contact_unknown        uint8\n",
      "month_apr              uint8\n",
      "month_aug              uint8\n",
      "month_dec              uint8\n",
      "month_feb              uint8\n",
      "month_jan              uint8\n",
      "month_jul              uint8\n",
      "month_jun              uint8\n",
      "month_mar              uint8\n",
      "month_may              uint8\n",
      "month_nov              uint8\n",
      "month_oct              uint8\n",
      "month_sep              uint8\n",
      "poutcome_failure       uint8\n",
      "poutcome_other         uint8\n",
      "poutcome_success       uint8\n",
      "poutcome_unknown       uint8\n",
      "dtype: object\n"
     ]
    }
   ],
   "source": [
    "print(\"Data Types:\", t.dtypes)"
   ]
  },
  {
   "cell_type": "markdown",
   "metadata": {},
   "source": [
    "# Print & Plot the Correlation between the features "
   ]
  },
  {
   "cell_type": "code",
   "execution_count": 6,
   "metadata": {},
   "outputs": [
    {
     "name": "stdout",
     "output_type": "stream",
     "text": [
      "Populating the interactive namespace from numpy and matplotlib\n"
     ]
    },
    {
     "data": {
      "text/plain": [
       "<Figure size 1080x720 with 0 Axes>"
      ]
     },
     "metadata": {},
     "output_type": "display_data"
    },
    {
     "data": {
      "image/png": "[encoded data removed]",
      "text/plain": [
       "<Figure size 1080x720 with 2 Axes>"
      ]
     },
     "metadata": {},
     "output_type": "display_data"
    }
   ],
   "source": [
    "%pylab inline \n",
    "corr = t.corr(method='pearson')\n",
    "plt.figure(1, figsize(15,10))\n",
    "fig = plt.figure()\n",
    "ax = fig.add_subplot(111)\n",
    "cax = ax.matshow(corr, vmin=-1, vmax=1)\n",
    "fig.colorbar(cax)\n",
    "ticks = np.arange(0,51,1)\n",
    "ax.set_xticks(ticks)\n",
    "ax.set_yticks(ticks)\n",
    "ax.set_xticklabels(t.columns)\n",
    "ax.set_yticklabels(t.columns)\n",
    "plt.show()"
   ]
  },
  {
   "cell_type": "code",
   "execution_count": 7,
   "metadata": {
    "collapsed": true
   },
   "outputs": [],
   "source": [
    "#print(\"Head:\", bank.head())\n",
    "#import pandas as pd \n",
    "#df = pd.DataFrame(t)\n",
    "#df.to_csv(\"resultat2.csv\")"
   ]
  },
  {
   "cell_type": "markdown",
   "metadata": {},
   "source": [
    "# On transforme nos données en array en utilisant la fonction .values "
   ]
  },
  {
   "cell_type": "code",
   "execution_count": 8,
   "metadata": {},
   "outputs": [
    {
     "data": {
      "text/plain": [
       "(45211, 51)"
      ]
     },
     "execution_count": 8,
     "metadata": {},
     "output_type": "execute_result"
    }
   ],
   "source": [
    "features = t.iloc[:,:].values\n",
    "features.shape"
   ]
  },
  {
   "cell_type": "code",
   "execution_count": 9,
   "metadata": {},
   "outputs": [
    {
     "name": "stdout",
     "output_type": "stream",
     "text": [
      "(45211,)\n"
     ]
    }
   ],
   "source": [
    "output=bank.iloc[:,-1].values\n",
    "print(output.shape)"
   ]
  },
  {
   "cell_type": "markdown",
   "metadata": {},
   "source": [
    "# Spliting the Data "
   ]
  },
  {
   "cell_type": "markdown",
   "metadata": {},
   "source": [
    "## We  shuffle them and then wi split them by taking 70% for the training set and 30% for the the test set  "
   ]
  },
  {
   "cell_type": "code",
   "execution_count": 10,
   "metadata": {},
   "outputs": [
    {
     "name": "stdout",
     "output_type": "stream",
     "text": [
      "(31647, 51)\n",
      "(31647,)\n",
      " \n",
      "(13564, 51)\n",
      "(13564,)\n"
     ]
    }
   ],
   "source": [
    "x_train, x_test, y_train, y_test = train_test_split(features, output, test_size=0.3, random_state=1)\n",
    "print(x_train.shape)\n",
    "print(y_train.shape)\n",
    "\n",
    "print(\" \")\n",
    "print(x_test.shape)\n",
    "print(y_test.shape)"
   ]
  },
  {
   "cell_type": "markdown",
   "metadata": {},
   "source": [
    "# 1st Algo : LOGISCTIC REGRESSION "
   ]
  },
  {
   "cell_type": "code",
   "execution_count": null,
   "metadata": {},
   "outputs": [],
   "source": [
    "# On utilise la fonction GridSearchCV qui optimise les hyperparametres qu'on lui donne à l'avance \n",
    "# dual = False par default, et on le laisse car n_samples > n_features \n",
    "# multi_class = ovr par defailt, et on le laisse car on est en classification binaire \n",
    "# verbose = 0 par default \n",
    "\n",
    "\n",
    "grid = {\n",
    "        'C': [1e-4,1e-1]\n",
    "         , 'solver': ('newton-cg','liblinear')  , 'tol' : [1e-4,1e-1] , 'max_iter' : [100,1000,10000]\n",
    "         \n",
    "    }\n",
    "clf = LogisticRegression(penalty='l2', random_state=2) \n",
    "gs = GridSearchCV(clf, grid, scoring='roc_auc',cv=3)\n",
    "gs_train = gs.fit(x_train, y_train)\n",
    "print ('gs.best_score_:', gs.best_score_)"
   ]
  },
  {
   "cell_type": "code",
   "execution_count": null,
   "metadata": {},
   "outputs": [],
   "source": [
    "print ('gs.best_param:', gs.best_params_)"
   ]
  },
  {
   "cell_type": "code",
   "execution_count": null,
   "metadata": {},
   "outputs": [],
   "source": [
    "# Une fois les hyperparametres optimisés, on les rentre pour la fonction et on regarde le accuracy sur le test set \n",
    "model = LogisticRegression(penalty='l2', random_state=1 , max_iter=100, C = 0.1 , solver = 'liblinear',tol = 0.0001 )\n",
    "model.fit(x_train,y_train)\n",
    "pre = model.predict(x_test)\n",
    "accuracy_score(y_test,pre)"
   ]
  },
  {
   "cell_type": "markdown",
   "metadata": {},
   "source": [
    "# 2nd Algo : SVM "
   ]
  },
  {
   "cell_type": "code",
   "execution_count": null,
   "metadata": {},
   "outputs": [],
   "source": [
    "# On reutilise la fonction GridSearchCV comme précédement, afin d'optimiser les hyperparametres \n",
    "# En tunant, on voit que le kernel utiliser est rbf donc l'hyperparametres degree est ignoner, vu qu'on est pas en poly \n",
    "# Pareil pour coef_0, significatif que lorsque l'on est en poly ou sigmoid \n",
    "# decision_function_shape = ovr car on est classification binaire\n",
    "\n",
    "# 'max_iter':[-1,50],\n",
    "#  'cache_size ':[100,200,300] \n",
    "\n",
    "grid = {\n",
    "        'C': [1e-4,1e-1]\n",
    "         , 'kernel': ('linear', 'poly', 'rbf','sigmoid')  , 'tol' : [1e-4,1e-1] \n",
    "         \n",
    "    }\n",
    "clf = SVC( random_state=3 ) \n",
    "gs = GridSearchCV(clf, grid,cv=3)\n",
    "gs_train = gs.fit(x_train, y_train)\n",
    "print ('gs.best_score_:', gs.best_score_)"
   ]
  },
  {
   "cell_type": "code",
   "execution_count": null,
   "metadata": {},
   "outputs": [],
   "source": [
    "print ('gs.best_param:', gs.best_params_)"
   ]
  },
  {
   "cell_type": "code",
   "execution_count": null,
   "metadata": {},
   "outputs": [],
   "source": [
    "# Une fois les hyperparametres optimisés, on les rentre pour la fonction et on regarde le accuracy sur le test set \n",
    "model = SVC(C = 0.0001, kernel = 'rbf', tol= 0.0001 )\n",
    "model.fit(x_train,y_train)\n",
    "pre = model.predict(x_test)\n",
    "accuracy_score(y_test,pre)"
   ]
  },
  {
   "cell_type": "markdown",
   "metadata": {},
   "source": [
    "# 3rd Algo : Random Forest  "
   ]
  },
  {
   "cell_type": "code",
   "execution_count": null,
   "metadata": {},
   "outputs": [],
   "source": [
    "grid = {\n",
    "    'n_estimators': [200, 500],\n",
    "    'max_features': ('auto', 'log2'),\n",
    "    'max_depth' : [15,20,30,40,50],\n",
    "    'criterion' : ('gini','entropy')\n",
    "    \n",
    "}\n",
    "clf = RandomForestClassifier( random_state=4 ) \n",
    "gs = GridSearchCV(clf, grid,cv=3)\n",
    "gs_train = gs.fit(x_train, y_train)\n",
    "print ('gs.best_score_:', gs.best_score_)"
   ]
  },
  {
   "cell_type": "code",
   "execution_count": null,
   "metadata": {},
   "outputs": [],
   "source": [
    "print ('gs.best_param:', gs.best_params_)"
   ]
  },
  {
   "cell_type": "code",
   "execution_count": null,
   "metadata": {},
   "outputs": [],
   "source": [
    "# Une fois les hyperparametres optimisés, on les rentre pour la fonction et on regarde le accuracy sur le test set \n",
    "model = RandomForestClassifier(max_depth= 30, max_features = 'auto', n_estimators= 500,criterion = 'gini')\n",
    "model.fit(x_train,y_train)\n",
    "pre = model.predict(x_test)\n",
    "accuracy_score(y_test,pre)"
   ]
  },
  {
   "cell_type": "code",
   "execution_count": null,
   "metadata": {
    "collapsed": true
   },
   "outputs": [],
   "source": []
  }
 ],
 "metadata": {
  "kernelspec": {
   "display_name": "Python 3",
   "language": "python",
   "name": "python3"
  },
  "language_info": {
   "codemirror_mode": {
    "name": "ipython",
    "version": 3
   },
   "file_extension": ".py",
   "mimetype": "text/x-python",
   "name": "python",
   "nbconvert_exporter": "python",
   "pygments_lexer": "ipython3",
   "version": "3.6.5"
  }
 },
 "nbformat": 4,
 "nbformat_minor": 2
}
